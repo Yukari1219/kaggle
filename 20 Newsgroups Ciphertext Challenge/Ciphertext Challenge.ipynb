{
 "cells": [
  {
   "cell_type": "code",
   "execution_count": 1,
   "metadata": {},
   "outputs": [],
   "source": [
    "import numpy as np\n",
    "import pandas as pd"
   ]
  },
  {
   "cell_type": "code",
   "execution_count": 2,
   "metadata": {},
   "outputs": [],
   "source": [
    "train = pd.read_csv(r\"C:\\Users\\raven\\Downloads\\20-newsgroups-ciphertext-challenge\\train.csv\")\n",
    "test  = pd.read_csv(r\"C:\\Users\\raven\\Downloads\\20-newsgroups-ciphertext-challenge\\test.csv\")"
   ]
  },
  {
   "cell_type": "code",
   "execution_count": 7,
   "metadata": {},
   "outputs": [
    {
     "data": {
      "text/html": [
       "<div>\n",
       "<style scoped>\n",
       "    .dataframe tbody tr th:only-of-type {\n",
       "        vertical-align: middle;\n",
       "    }\n",
       "\n",
       "    .dataframe tbody tr th {\n",
       "        vertical-align: top;\n",
       "    }\n",
       "\n",
       "    .dataframe thead th {\n",
       "        text-align: right;\n",
       "    }\n",
       "</style>\n",
       "<table border=\"1\" class=\"dataframe\">\n",
       "  <thead>\n",
       "    <tr style=\"text-align: right;\">\n",
       "      <th></th>\n",
       "      <th>ciphertext</th>\n",
       "      <th>Id</th>\n",
       "      <th>target</th>\n",
       "    </tr>\n",
       "  </thead>\n",
       "  <tbody>\n",
       "    <tr>\n",
       "      <th>0</th>\n",
       "      <td>W)(7\u001ayT7h8;Hv\\nlTcH;hHhNW)%HhMNPcHNG_Cy^PvMBMy...</td>\n",
       "      <td>ID_48096b7a9</td>\n",
       "      <td>12</td>\n",
       "    </tr>\n",
       "    <tr>\n",
       "      <th>1</th>\n",
       "      <td>W)(7\u001ayqv(H3cl-iNHv\u001ecNMrcNv3y^](H\\ny\\tNy\u0003c/syPc...</td>\n",
       "      <td>ID_a2d6e55f4</td>\n",
       "      <td>2</td>\n",
       "    </tr>\n",
       "    <tr>\n",
       "      <th>2</th>\n",
       "      <td>W)(7\u001ayqM()qMl7;HTvM)N\\n()8N%hNc8syPcu4Mhv\u001ayO(H...</td>\n",
       "      <td>ID_9dde342f6</td>\n",
       "      <td>11</td>\n",
       "    </tr>\n",
       "    <tr>\n",
       "      <th>3</th>\n",
       "      <td>W)(7\u001ayH=j0j?&amp;Il\u001eMHT(HNhhN33cNMrcy^\\%7MTyX(cq1%...</td>\n",
       "      <td>ID_b637c2642</td>\n",
       "      <td>16</td>\n",
       "    </tr>\n",
       "    <tr>\n",
       "      <th>4</th>\n",
       "      <td>W)(7\u001ay8()MHM8lH7v;Nh(7y^q%)\\ny8()MHM8/syPcu4Mh...</td>\n",
       "      <td>ID_51b0f15e7</td>\n",
       "      <td>3</td>\n",
       "    </tr>\n",
       "  </tbody>\n",
       "</table>\n",
       "</div>"
      ],
      "text/plain": [
       "                                          ciphertext            Id  target\n",
       "0  W)(7\u001ayT7h8;Hv\\nlTcH;hHhNW)%HhMNPcHNG_Cy^PvMBMy...  ID_48096b7a9      12\n",
       "1  W)(7\u001ayqv(H3cl-iNHv\n",
       "cNMrcNv3y^](H\\ny\\tNy\u0003c/syPc...  ID_a2d6e55f4       2\n",
       "2  W)(7\u001ayqM()qMl7;HTvM)N\\n()8N%hNc8syPcu4Mhv\u001ayO(H...  ID_9dde342f6      11\n",
       "3  W)(7\u001ayH=j0j?&Il\n",
       "MHT(HNhhN33cNMrcy^\\%7MTyX(cq1%...  ID_b637c2642      16\n",
       "4  W)(7\u001ay8()MHM8lH7v;Nh(7y^q%)\\ny8()MHM8/syPcu4Mh...  ID_51b0f15e7       3"
      ]
     },
     "execution_count": 7,
     "metadata": {},
     "output_type": "execute_result"
    }
   ],
   "source": [
    "train.head()"
   ]
  },
  {
   "cell_type": "code",
   "execution_count": null,
   "metadata": {},
   "outputs": [],
   "source": []
  }
 ],
 "metadata": {
  "kernelspec": {
   "display_name": "base",
   "language": "python",
   "name": "python3"
  },
  "language_info": {
   "codemirror_mode": {
    "name": "ipython",
    "version": 3
   },
   "file_extension": ".py",
   "mimetype": "text/x-python",
   "name": "python",
   "nbconvert_exporter": "python",
   "pygments_lexer": "ipython3",
   "version": "3.9.12"
  },
  "orig_nbformat": 4,
  "vscode": {
   "interpreter": {
    "hash": "48a0778e89fd8d63bb67c0ae3b13ae830d25e28e8f936c65fb5a282d332226e5"
   }
  }
 },
 "nbformat": 4,
 "nbformat_minor": 2
}
