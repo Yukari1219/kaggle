{
 "cells": [
  {
   "cell_type": "code",
   "execution_count": 27,
   "metadata": {},
   "outputs": [],
   "source": [
    "import numpy as np\n",
    "import pandas as pd\n",
    "import matplotlib.pyplot as plt\n",
    "import seaborn as sns\n",
    "from sklearn.preprocessing import LabelEncoder\n",
    "from sklearn.ensemble import RandomForestClassifier as RFC\n",
    "from sklearn.model_selection import cross_val_score\n",
    "import re\n",
    "import optuna"
   ]
  },
  {
   "cell_type": "code",
   "execution_count": 28,
   "metadata": {},
   "outputs": [],
   "source": [
    "train = pd.read_csv(r\"C:\\Users\\raven\\Downloads\\sf-crime\\train.csv\\train.csv\")\n",
    "test  = pd.read_csv(r\"C:\\Users\\raven\\Downloads\\sf-crime\\test.csv\\test.csv\")"
   ]
  },
  {
   "cell_type": "code",
   "execution_count": 29,
   "metadata": {},
   "outputs": [
    {
     "data": {
      "text/html": [
       "<div>\n",
       "<style scoped>\n",
       "    .dataframe tbody tr th:only-of-type {\n",
       "        vertical-align: middle;\n",
       "    }\n",
       "\n",
       "    .dataframe tbody tr th {\n",
       "        vertical-align: top;\n",
       "    }\n",
       "\n",
       "    .dataframe thead th {\n",
       "        text-align: right;\n",
       "    }\n",
       "</style>\n",
       "<table border=\"1\" class=\"dataframe\">\n",
       "  <thead>\n",
       "    <tr style=\"text-align: right;\">\n",
       "      <th></th>\n",
       "      <th>Dates</th>\n",
       "      <th>Category</th>\n",
       "      <th>DayOfWeek</th>\n",
       "      <th>PdDistrict</th>\n",
       "      <th>Address</th>\n",
       "      <th>X</th>\n",
       "      <th>Y</th>\n",
       "    </tr>\n",
       "  </thead>\n",
       "  <tbody>\n",
       "    <tr>\n",
       "      <th>0</th>\n",
       "      <td>2015-05-13 23:53:00</td>\n",
       "      <td>WARRANTS</td>\n",
       "      <td>Wednesday</td>\n",
       "      <td>NORTHERN</td>\n",
       "      <td>OAK ST / LAGUNA ST</td>\n",
       "      <td>-122.425892</td>\n",
       "      <td>37.774599</td>\n",
       "    </tr>\n",
       "    <tr>\n",
       "      <th>1</th>\n",
       "      <td>2015-05-13 23:53:00</td>\n",
       "      <td>OTHER OFFENSES</td>\n",
       "      <td>Wednesday</td>\n",
       "      <td>NORTHERN</td>\n",
       "      <td>OAK ST / LAGUNA ST</td>\n",
       "      <td>-122.425892</td>\n",
       "      <td>37.774599</td>\n",
       "    </tr>\n",
       "    <tr>\n",
       "      <th>2</th>\n",
       "      <td>2015-05-13 23:33:00</td>\n",
       "      <td>OTHER OFFENSES</td>\n",
       "      <td>Wednesday</td>\n",
       "      <td>NORTHERN</td>\n",
       "      <td>VANNESS AV / GREENWICH ST</td>\n",
       "      <td>-122.424363</td>\n",
       "      <td>37.800414</td>\n",
       "    </tr>\n",
       "    <tr>\n",
       "      <th>3</th>\n",
       "      <td>2015-05-13 23:30:00</td>\n",
       "      <td>LARCENY/THEFT</td>\n",
       "      <td>Wednesday</td>\n",
       "      <td>NORTHERN</td>\n",
       "      <td>1500 Block of LOMBARD ST</td>\n",
       "      <td>-122.426995</td>\n",
       "      <td>37.800873</td>\n",
       "    </tr>\n",
       "    <tr>\n",
       "      <th>4</th>\n",
       "      <td>2015-05-13 23:30:00</td>\n",
       "      <td>LARCENY/THEFT</td>\n",
       "      <td>Wednesday</td>\n",
       "      <td>PARK</td>\n",
       "      <td>100 Block of BRODERICK ST</td>\n",
       "      <td>-122.438738</td>\n",
       "      <td>37.771541</td>\n",
       "    </tr>\n",
       "  </tbody>\n",
       "</table>\n",
       "</div>"
      ],
      "text/plain": [
       "                 Dates        Category  DayOfWeek PdDistrict  \\\n",
       "0  2015-05-13 23:53:00        WARRANTS  Wednesday   NORTHERN   \n",
       "1  2015-05-13 23:53:00  OTHER OFFENSES  Wednesday   NORTHERN   \n",
       "2  2015-05-13 23:33:00  OTHER OFFENSES  Wednesday   NORTHERN   \n",
       "3  2015-05-13 23:30:00   LARCENY/THEFT  Wednesday   NORTHERN   \n",
       "4  2015-05-13 23:30:00   LARCENY/THEFT  Wednesday       PARK   \n",
       "\n",
       "                     Address           X          Y  \n",
       "0         OAK ST / LAGUNA ST -122.425892  37.774599  \n",
       "1         OAK ST / LAGUNA ST -122.425892  37.774599  \n",
       "2  VANNESS AV / GREENWICH ST -122.424363  37.800414  \n",
       "3   1500 Block of LOMBARD ST -122.426995  37.800873  \n",
       "4  100 Block of BRODERICK ST -122.438738  37.771541  "
      ]
     },
     "execution_count": 29,
     "metadata": {},
     "output_type": "execute_result"
    }
   ],
   "source": [
    "train1 = train.drop(['Descript', 'Resolution'], axis = 1)\n",
    "train1.head()"
   ]
  },
  {
   "cell_type": "code",
   "execution_count": 30,
   "metadata": {},
   "outputs": [],
   "source": [
    "train1 = train1.query('Y != 90')"
   ]
  },
  {
   "cell_type": "code",
   "execution_count": 31,
   "metadata": {},
   "outputs": [
    {
     "data": {
      "text/html": [
       "<div>\n",
       "<style scoped>\n",
       "    .dataframe tbody tr th:only-of-type {\n",
       "        vertical-align: middle;\n",
       "    }\n",
       "\n",
       "    .dataframe tbody tr th {\n",
       "        vertical-align: top;\n",
       "    }\n",
       "\n",
       "    .dataframe thead th {\n",
       "        text-align: right;\n",
       "    }\n",
       "</style>\n",
       "<table border=\"1\" class=\"dataframe\">\n",
       "  <thead>\n",
       "    <tr style=\"text-align: right;\">\n",
       "      <th></th>\n",
       "      <th>Category</th>\n",
       "      <th>DayOfWeek</th>\n",
       "      <th>PdDistrict</th>\n",
       "      <th>Address</th>\n",
       "      <th>X</th>\n",
       "      <th>Y</th>\n",
       "      <th>Date</th>\n",
       "      <th>Year</th>\n",
       "      <th>Month</th>\n",
       "      <th>Day</th>\n",
       "      <th>Hour</th>\n",
       "    </tr>\n",
       "  </thead>\n",
       "  <tbody>\n",
       "    <tr>\n",
       "      <th>0</th>\n",
       "      <td>37</td>\n",
       "      <td>6</td>\n",
       "      <td>105284</td>\n",
       "      <td>0</td>\n",
       "      <td>-122.425892</td>\n",
       "      <td>37.774599</td>\n",
       "      <td>2015-05-13</td>\n",
       "      <td>2015</td>\n",
       "      <td>5</td>\n",
       "      <td>13</td>\n",
       "      <td>23</td>\n",
       "    </tr>\n",
       "    <tr>\n",
       "      <th>1</th>\n",
       "      <td>21</td>\n",
       "      <td>6</td>\n",
       "      <td>105284</td>\n",
       "      <td>0</td>\n",
       "      <td>-122.425892</td>\n",
       "      <td>37.774599</td>\n",
       "      <td>2015-05-13</td>\n",
       "      <td>2015</td>\n",
       "      <td>5</td>\n",
       "      <td>13</td>\n",
       "      <td>23</td>\n",
       "    </tr>\n",
       "    <tr>\n",
       "      <th>2</th>\n",
       "      <td>21</td>\n",
       "      <td>6</td>\n",
       "      <td>105284</td>\n",
       "      <td>0</td>\n",
       "      <td>-122.424363</td>\n",
       "      <td>37.800414</td>\n",
       "      <td>2015-05-13</td>\n",
       "      <td>2015</td>\n",
       "      <td>5</td>\n",
       "      <td>13</td>\n",
       "      <td>23</td>\n",
       "    </tr>\n",
       "    <tr>\n",
       "      <th>3</th>\n",
       "      <td>16</td>\n",
       "      <td>6</td>\n",
       "      <td>105284</td>\n",
       "      <td>1</td>\n",
       "      <td>-122.426995</td>\n",
       "      <td>37.800873</td>\n",
       "      <td>2015-05-13</td>\n",
       "      <td>2015</td>\n",
       "      <td>5</td>\n",
       "      <td>13</td>\n",
       "      <td>23</td>\n",
       "    </tr>\n",
       "    <tr>\n",
       "      <th>4</th>\n",
       "      <td>16</td>\n",
       "      <td>6</td>\n",
       "      <td>49311</td>\n",
       "      <td>1</td>\n",
       "      <td>-122.438738</td>\n",
       "      <td>37.771541</td>\n",
       "      <td>2015-05-13</td>\n",
       "      <td>2015</td>\n",
       "      <td>5</td>\n",
       "      <td>13</td>\n",
       "      <td>23</td>\n",
       "    </tr>\n",
       "  </tbody>\n",
       "</table>\n",
       "</div>"
      ],
      "text/plain": [
       "   Category  DayOfWeek  PdDistrict  Address           X          Y  \\\n",
       "0        37          6      105284        0 -122.425892  37.774599   \n",
       "1        21          6      105284        0 -122.425892  37.774599   \n",
       "2        21          6      105284        0 -122.424363  37.800414   \n",
       "3        16          6      105284        1 -122.426995  37.800873   \n",
       "4        16          6       49311        1 -122.438738  37.771541   \n",
       "\n",
       "         Date  Year  Month  Day  Hour  \n",
       "0  2015-05-13  2015      5   13    23  \n",
       "1  2015-05-13  2015      5   13    23  \n",
       "2  2015-05-13  2015      5   13    23  \n",
       "3  2015-05-13  2015      5   13    23  \n",
       "4  2015-05-13  2015      5   13    23  "
      ]
     },
     "execution_count": 31,
     "metadata": {},
     "output_type": "execute_result"
    }
   ],
   "source": [
    "Dt = pd.to_datetime(train1['Dates'])\n",
    "train1['Date'] = Dt.dt.date\n",
    "train1['Year'] = Dt.dt.year\n",
    "train1['Month'] = Dt.dt.month\n",
    "train1['Day'] = Dt.dt.day\n",
    "train1['Hour'] = Dt.dt.hour\n",
    "train1.drop([\"Dates\"], axis = 1, inplace = True)\n",
    "\n",
    "le = LabelEncoder()\n",
    "train1['DayOfWeek'] = le.fit_transform(train1['DayOfWeek'])\n",
    "\n",
    "count_encoding = train1['PdDistrict'].value_counts().to_dict()\n",
    "train1['PdDistrict'] = train1['PdDistrict'].map(count_encoding)\n",
    "\n",
    "# Ad_dict = {'.*?ST / .*?ST':0, '.*?AV / .*?AV':1, '.*?ST / .*?AV':2, '.*?AV / .*?ST':3, '.*?ST':4, '.*?AV':5}\n",
    "# train1['Address'] = train1['Address'].replace(Ad_dict,regex = True)\n",
    "# train1['Address'].unique()\n",
    "Ad_dict = {'.* / .*':0, '.*':1}\n",
    "train1['Address'] = train1['Address'].replace(Ad_dict,regex = True)\n",
    "\n",
    "train1['Category'] = le.fit_transform(train1['Category'])\n",
    "\n",
    "train1.head()\n",
    "# # DayOfWeek...label, PdDistrict...count"
   ]
  },
  {
   "cell_type": "code",
   "execution_count": 32,
   "metadata": {},
   "outputs": [
    {
     "data": {
      "text/html": [
       "<div>\n",
       "<style scoped>\n",
       "    .dataframe tbody tr th:only-of-type {\n",
       "        vertical-align: middle;\n",
       "    }\n",
       "\n",
       "    .dataframe tbody tr th {\n",
       "        vertical-align: top;\n",
       "    }\n",
       "\n",
       "    .dataframe thead th {\n",
       "        text-align: right;\n",
       "    }\n",
       "</style>\n",
       "<table border=\"1\" class=\"dataframe\">\n",
       "  <thead>\n",
       "    <tr style=\"text-align: right;\">\n",
       "      <th></th>\n",
       "      <th>Id</th>\n",
       "      <th>DayOfWeek</th>\n",
       "      <th>PdDistrict</th>\n",
       "      <th>Address</th>\n",
       "      <th>X</th>\n",
       "      <th>Y</th>\n",
       "      <th>Date</th>\n",
       "      <th>Year</th>\n",
       "      <th>Month</th>\n",
       "      <th>Day</th>\n",
       "      <th>Hour</th>\n",
       "    </tr>\n",
       "  </thead>\n",
       "  <tbody>\n",
       "    <tr>\n",
       "      <th>0</th>\n",
       "      <td>0</td>\n",
       "      <td>3</td>\n",
       "      <td>89591</td>\n",
       "      <td>1</td>\n",
       "      <td>-122.399588</td>\n",
       "      <td>37.735051</td>\n",
       "      <td>2015-05-10</td>\n",
       "      <td>2015</td>\n",
       "      <td>5</td>\n",
       "      <td>10</td>\n",
       "      <td>23</td>\n",
       "    </tr>\n",
       "    <tr>\n",
       "      <th>1</th>\n",
       "      <td>1</td>\n",
       "      <td>3</td>\n",
       "      <td>89591</td>\n",
       "      <td>0</td>\n",
       "      <td>-122.391523</td>\n",
       "      <td>37.732432</td>\n",
       "      <td>2015-05-10</td>\n",
       "      <td>2015</td>\n",
       "      <td>5</td>\n",
       "      <td>10</td>\n",
       "      <td>23</td>\n",
       "    </tr>\n",
       "    <tr>\n",
       "      <th>2</th>\n",
       "      <td>2</td>\n",
       "      <td>3</td>\n",
       "      <td>107017</td>\n",
       "      <td>1</td>\n",
       "      <td>-122.426002</td>\n",
       "      <td>37.792212</td>\n",
       "      <td>2015-05-10</td>\n",
       "      <td>2015</td>\n",
       "      <td>5</td>\n",
       "      <td>10</td>\n",
       "      <td>23</td>\n",
       "    </tr>\n",
       "    <tr>\n",
       "      <th>3</th>\n",
       "      <td>3</td>\n",
       "      <td>3</td>\n",
       "      <td>80084</td>\n",
       "      <td>1</td>\n",
       "      <td>-122.437394</td>\n",
       "      <td>37.721412</td>\n",
       "      <td>2015-05-10</td>\n",
       "      <td>2015</td>\n",
       "      <td>5</td>\n",
       "      <td>10</td>\n",
       "      <td>23</td>\n",
       "    </tr>\n",
       "    <tr>\n",
       "      <th>4</th>\n",
       "      <td>4</td>\n",
       "      <td>3</td>\n",
       "      <td>80084</td>\n",
       "      <td>1</td>\n",
       "      <td>-122.437394</td>\n",
       "      <td>37.721412</td>\n",
       "      <td>2015-05-10</td>\n",
       "      <td>2015</td>\n",
       "      <td>5</td>\n",
       "      <td>10</td>\n",
       "      <td>23</td>\n",
       "    </tr>\n",
       "  </tbody>\n",
       "</table>\n",
       "</div>"
      ],
      "text/plain": [
       "   Id  DayOfWeek  PdDistrict  Address           X          Y        Date  \\\n",
       "0   0          3       89591        1 -122.399588  37.735051  2015-05-10   \n",
       "1   1          3       89591        0 -122.391523  37.732432  2015-05-10   \n",
       "2   2          3      107017        1 -122.426002  37.792212  2015-05-10   \n",
       "3   3          3       80084        1 -122.437394  37.721412  2015-05-10   \n",
       "4   4          3       80084        1 -122.437394  37.721412  2015-05-10   \n",
       "\n",
       "   Year  Month  Day  Hour  \n",
       "0  2015      5   10    23  \n",
       "1  2015      5   10    23  \n",
       "2  2015      5   10    23  \n",
       "3  2015      5   10    23  \n",
       "4  2015      5   10    23  "
      ]
     },
     "execution_count": 32,
     "metadata": {},
     "output_type": "execute_result"
    }
   ],
   "source": [
    "Dt = pd.to_datetime(test['Dates'])\n",
    "test['Date'] = Dt.dt.date\n",
    "test['Year'] = Dt.dt.year\n",
    "test['Month'] = Dt.dt.month\n",
    "test['Day'] = Dt.dt.day\n",
    "test['Hour'] = Dt.dt.hour\n",
    "test.drop([\"Dates\"], axis = 1, inplace = True)\n",
    "\n",
    "le = LabelEncoder()\n",
    "test['DayOfWeek'] = le.fit_transform(test['DayOfWeek'])\n",
    "\n",
    "count_encoding = test['PdDistrict'].value_counts().to_dict()\n",
    "test['PdDistrict'] = test['PdDistrict'].map(count_encoding)\n",
    "\n",
    "Ad_dict = {'.* / .*':0, '.*':1}\n",
    "test['Address'] = test['Address'].replace(Ad_dict,regex = True)\n",
    "test.head()"
   ]
  },
  {
   "cell_type": "code",
   "execution_count": 33,
   "metadata": {},
   "outputs": [],
   "source": [
    "cols = ['DayOfWeek', 'PdDistrict', 'Address', 'X', 'Y', 'Year', 'Month', 'Day', 'Hour']\n",
    "\n",
    "X = train1[cols]\n",
    "Y = train1['Category']\n",
    "\n",
    "X_test = test[cols]"
   ]
  },
  {
   "cell_type": "code",
   "execution_count": 34,
   "metadata": {},
   "outputs": [],
   "source": [
    "from sklearn.model_selection import train_test_split\n",
    "X_train, X_val, y_train, y_val = train_test_split(X, Y, test_size = 0.3, random_state = 1219)"
   ]
  },
  {
   "cell_type": "code",
   "execution_count": 56,
   "metadata": {},
   "outputs": [],
   "source": [
    "# optunaの目的関数を設定する\n",
    "def objective(trial):\n",
    "    # criterion = trial.suggest_categorical('criterion', ['gini', 'entropy', 'log_loss'])\n",
    "    criterion = \"gini\"\n",
    "    bootstrap = True  # trial.suggest_categorical('bootstrap',[True,False])\n",
    "    max_depth = trial.suggest_int('max_depth', 1, 2)\n",
    "    max_features = None  # trial.suggest_categorical('max_features', ['sqrt','log2',None])\n",
    "    n_estimators = 5  # trial.suggest_int('n_estimators', 1, 2)\n",
    "    min_samples_split = trial.suggest_int('min_samples_split',2,5)\n",
    "    max_leaf_nodes = None\n",
    "    min_samples_leaf = 1\n",
    "\n",
    "    rfcpt = RFC(bootstrap = bootstrap, criterion = criterion,\n",
    "                                 max_depth = max_depth, max_features = max_features,\n",
    "                                 max_leaf_nodes = max_leaf_nodes,\n",
    "                                 n_estimators = n_estimators,\n",
    "                                 min_samples_split = min_samples_split,min_samples_leaf = min_samples_leaf)\n",
    "    score = cross_val_score(rfcpt, X_train, y_train, cv=5, scoring=\"r2\")\n",
    "    r2_mean = score.mean()\n",
    "    print(r2_mean)\n",
    "\n",
    "    return r2_mean"
   ]
  },
  {
   "cell_type": "code",
   "execution_count": 57,
   "metadata": {},
   "outputs": [
    {
     "name": "stderr",
     "output_type": "stream",
     "text": [
      "\u001b[32m[I 2023-02-08 18:55:48,931]\u001b[0m A new study created in memory with name: no-name-1586c5c3-5a85-4dab-8a55-111395501462\u001b[0m\n",
      "c:\\Users\\raven\\anaconda3\\anaconda\\lib\\site-packages\\optuna\\progress_bar.py:56: ExperimentalWarning: Progress bar is experimental (supported from v1.2.0). The interface can change in the future.\n",
      "  self._init_valid()\n"
     ]
    },
    {
     "data": {
      "application/vnd.jupyter.widget-view+json": {
       "model_id": "b4af90c33c5146a2ae33aa8669f39d4b",
       "version_major": 2,
       "version_minor": 0
      },
      "text/plain": [
       "  0%|          | 0/5 [00:00<?, ?it/s]"
      ]
     },
     "metadata": {},
     "output_type": "display_data"
    },
    {
     "name": "stdout",
     "output_type": "stream",
     "text": [
      "-0.04869113844568758\n",
      "\u001b[32m[I 2023-02-08 18:56:02,324]\u001b[0m Trial 0 finished with value: -0.04869113844568758 and parameters: {'max_depth': 1, 'min_samples_split': 2}. Best is trial 0 with value: -0.04869113844568758.\u001b[0m\n",
      "-0.07250007617576734\n",
      "\u001b[32m[I 2023-02-08 18:56:22,831]\u001b[0m Trial 1 finished with value: -0.07250007617576734 and parameters: {'max_depth': 2, 'min_samples_split': 5}. Best is trial 0 with value: -0.04869113844568758.\u001b[0m\n",
      "-0.04869113844568758\n",
      "\u001b[32m[I 2023-02-08 18:56:35,645]\u001b[0m Trial 2 finished with value: -0.04869113844568758 and parameters: {'max_depth': 1, 'min_samples_split': 2}. Best is trial 0 with value: -0.04869113844568758.\u001b[0m\n",
      "-0.07090418215717058\n",
      "\u001b[32m[I 2023-02-08 18:56:56,121]\u001b[0m Trial 3 finished with value: -0.07090418215717058 and parameters: {'max_depth': 2, 'min_samples_split': 3}. Best is trial 0 with value: -0.04869113844568758.\u001b[0m\n",
      "-0.04869113844568758\n",
      "\u001b[32m[I 2023-02-08 18:57:08,932]\u001b[0m Trial 4 finished with value: -0.04869113844568758 and parameters: {'max_depth': 1, 'min_samples_split': 5}. Best is trial 0 with value: -0.04869113844568758.\u001b[0m\n"
     ]
    }
   ],
   "source": [
    "#optunaで学習\n",
    "study = optuna.create_study(direction='maximize')\n",
    "study.optimize(objective, n_trials=5, show_progress_bar=True)\n"
   ]
  },
  {
   "cell_type": "code",
   "execution_count": 58,
   "metadata": {},
   "outputs": [
    {
     "ename": "KeyError",
     "evalue": "'bootstrap'",
     "output_type": "error",
     "traceback": [
      "\u001b[1;31m---------------------------------------------------------------------------\u001b[0m",
      "\u001b[1;31mKeyError\u001b[0m                                  Traceback (most recent call last)",
      "\u001b[1;32mc:\\Users\\raven\\kaggle\\Crime Classification\\sf_crime1 copy.ipynb セル 11\u001b[0m in \u001b[0;36m<cell line: 2>\u001b[1;34m()\u001b[0m\n\u001b[0;32m      <a href='vscode-notebook-cell:/c%3A/Users/raven/kaggle/Crime%20Classification/sf_crime1%20copy.ipynb#X35sZmlsZQ%3D%3D?line=0'>1</a>\u001b[0m \u001b[39m# チューニングしたハイパーパラメーターをフィット\u001b[39;00m\n\u001b[1;32m----> <a href='vscode-notebook-cell:/c%3A/Users/raven/kaggle/Crime%20Classification/sf_crime1%20copy.ipynb#X35sZmlsZQ%3D%3D?line=1'>2</a>\u001b[0m optimised_rf \u001b[39m=\u001b[39m RFC(bootstrap \u001b[39m=\u001b[39m study\u001b[39m.\u001b[39;49mbest_params[\u001b[39m'\u001b[39;49m\u001b[39mbootstrap\u001b[39;49m\u001b[39m'\u001b[39;49m], criterion \u001b[39m=\u001b[39m study\u001b[39m.\u001b[39mbest_params[\u001b[39m'\u001b[39m\u001b[39mcriterion\u001b[39m\u001b[39m'\u001b[39m],\n\u001b[0;32m      <a href='vscode-notebook-cell:/c%3A/Users/raven/kaggle/Crime%20Classification/sf_crime1%20copy.ipynb#X35sZmlsZQ%3D%3D?line=2'>3</a>\u001b[0m                                      max_depth \u001b[39m=\u001b[39m study\u001b[39m.\u001b[39mbest_params[\u001b[39m'\u001b[39m\u001b[39mmax_depth\u001b[39m\u001b[39m'\u001b[39m], max_features \u001b[39m=\u001b[39m study\u001b[39m.\u001b[39mbest_params[\u001b[39m'\u001b[39m\u001b[39mmax_features\u001b[39m\u001b[39m'\u001b[39m],\n\u001b[0;32m      <a href='vscode-notebook-cell:/c%3A/Users/raven/kaggle/Crime%20Classification/sf_crime1%20copy.ipynb#X35sZmlsZQ%3D%3D?line=3'>4</a>\u001b[0m                                      max_leaf_nodes \u001b[39m=\u001b[39m \u001b[39mNone\u001b[39;00m, n_estimators \u001b[39m=\u001b[39m study\u001b[39m.\u001b[39mbest_params[\u001b[39m'\u001b[39m\u001b[39mn_estimators\u001b[39m\u001b[39m'\u001b[39m],\n\u001b[0;32m      <a href='vscode-notebook-cell:/c%3A/Users/raven/kaggle/Crime%20Classification/sf_crime1%20copy.ipynb#X35sZmlsZQ%3D%3D?line=4'>5</a>\u001b[0m                                      min_samples_split \u001b[39m=\u001b[39m study\u001b[39m.\u001b[39mbest_params[\u001b[39m'\u001b[39m\u001b[39mmin_samples_split\u001b[39m\u001b[39m'\u001b[39m],min_samples_leaf \u001b[39m=\u001b[39m study\u001b[39m.\u001b[39mbest_params[\u001b[39m'\u001b[39m\u001b[39mmin_samples_leaf\u001b[39m\u001b[39m'\u001b[39m])\n\u001b[0;32m      <a href='vscode-notebook-cell:/c%3A/Users/raven/kaggle/Crime%20Classification/sf_crime1%20copy.ipynb#X35sZmlsZQ%3D%3D?line=5'>6</a>\u001b[0m optimised_rf\u001b[39m.\u001b[39mfit(X_train ,y_train)\n",
      "\u001b[1;31mKeyError\u001b[0m: 'bootstrap'"
     ]
    }
   ],
   "source": [
    "\n",
    "# チューニングしたハイパーパラメーターをフィット\n",
    "optimised_rf = RFC(bootstrap = study.best_params['bootstrap'], criterion = study.best_params['criterion'],\n",
    "                                     max_depth = study.best_params['max_depth'], max_features = study.best_params['max_features'],\n",
    "                                     max_leaf_nodes = None, n_estimators = study.best_params['n_estimators'],\n",
    "                                     min_samples_split = study.best_params['min_samples_split'],min_samples_leaf = study.best_params['min_samples_leaf'])\n",
    "optimised_rf.fit(X_train ,y_train)\n"
   ]
  },
  {
   "cell_type": "code",
   "execution_count": 29,
   "metadata": {},
   "outputs": [
    {
     "data": {
      "text/plain": [
       "RandomForestClassifier(max_depth=32, n_estimators=60, random_state=1219)"
      ]
     },
     "execution_count": 29,
     "metadata": {},
     "output_type": "execute_result"
    }
   ],
   "source": [
    "# rf = RFC(n_jobs=-1,          # 複数のCPUコアを使って並列に学習します。-1は最大値。\n",
    "#           random_state=2525)  # 乱数のシードです。\n",
    "rf = RFC(n_estimators=60, max_depth=32, random_state=1219)\n",
    "\n",
    "rf.fit(X_train, y_train)"
   ]
  },
  {
   "cell_type": "code",
   "execution_count": 30,
   "metadata": {},
   "outputs": [],
   "source": [
    "y_pred = rf.predict(X_val)"
   ]
  },
  {
   "cell_type": "code",
   "execution_count": 31,
   "metadata": {},
   "outputs": [],
   "source": [
    "# y_val.reshape(-1,1)"
   ]
  },
  {
   "cell_type": "code",
   "execution_count": 32,
   "metadata": {},
   "outputs": [],
   "source": [
    "# print(f\"acc: {rf.score(y_val, y_pred)}\")"
   ]
  },
  {
   "cell_type": "code",
   "execution_count": 33,
   "metadata": {},
   "outputs": [
    {
     "data": {
      "text/plain": [
       "0.30057897834051517"
      ]
     },
     "execution_count": 33,
     "metadata": {},
     "output_type": "execute_result"
    }
   ],
   "source": [
    "from sklearn.metrics import accuracy_score\n",
    "accuracy_score(y_val, y_pred)"
   ]
  },
  {
   "cell_type": "code",
   "execution_count": 34,
   "metadata": {},
   "outputs": [],
   "source": [
    "rf_submission = rf.predict(X_test)"
   ]
  },
  {
   "cell_type": "code",
   "execution_count": 39,
   "metadata": {},
   "outputs": [],
   "source": [
    "import csv\n",
    "pred = rf.predict_proba(test[['DayOfWeek', 'PdDistrict', 'Address', 'X', 'Y', 'Year', 'Month', 'Day', 'Hour']])\n",
    "submission = pd.DataFrame(columns=['Id'], data=test)\n",
    "submission = pd.concat([submission, pd.DataFrame(pred, columns=[\"ARSON\", \"ASSAULT\", \"BAD CHECKS\", \"BRIBERY\", \"BURGLARY\", \"DISORDERLY CONDUCT\",\n",
    "\"DRIVING UNDER THE INFLUENCE\", \"DRUG/NARCOTIC\", \"DRUNKENNESS\", \"EMBEZZLEMENT\", \"EXTORTION\",\n",
    "\"FAMILY OFFENSES\", \"FORGERY/COUNTERFEITING\", \"FRAUD\", \"GAMBLING\", \"KIDNAPPING\", \"LARCENY/THEFT\",\n",
    "\"LIQUOR LAWS\", \"LOITERING\", \"MISSING PERSON\", \"NON-CRIMINAL\", \"OTHER OFFENSES\", \"PORNOGRAPHY/OBSCENE MAT\",\n",
    "\"PROSTITUTION\", \"RECOVERED VEHICLE\", \"ROBBERY\", \"RUNAWAY\", \"SECONDARY CODES\", \"SEX OFFENSES FORCIBLE\",\n",
    "\"SEX OFFENSES NON FORCIBLE\", \"STOLEN PROPERTY\", \"SUICIDE\", \"SUSPICIOUS OCC\", \"TREA\", \"TRESPASS\",\n",
    "\"VANDALISM\", \"VEHICLE THEFT\", \"WARRANTS\", \"WEAPON LAWS\"])], axis=1)"
   ]
  },
  {
   "cell_type": "code",
   "execution_count": 40,
   "metadata": {},
   "outputs": [],
   "source": [
    "submission.to_csv(\"rf1.csv\", index=False)"
   ]
  },
  {
   "cell_type": "code",
   "execution_count": null,
   "metadata": {},
   "outputs": [],
   "source": []
  }
 ],
 "metadata": {
  "kernelspec": {
   "display_name": "base",
   "language": "python",
   "name": "python3"
  },
  "language_info": {
   "codemirror_mode": {
    "name": "ipython",
    "version": 3
   },
   "file_extension": ".py",
   "mimetype": "text/x-python",
   "name": "python",
   "nbconvert_exporter": "python",
   "pygments_lexer": "ipython3",
   "version": "3.9.12"
  },
  "orig_nbformat": 4,
  "vscode": {
   "interpreter": {
    "hash": "48a0778e89fd8d63bb67c0ae3b13ae830d25e28e8f936c65fb5a282d332226e5"
   }
  }
 },
 "nbformat": 4,
 "nbformat_minor": 2
}
