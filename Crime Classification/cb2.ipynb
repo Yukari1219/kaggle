{
 "cells": [
  {
   "cell_type": "code",
   "execution_count": null,
   "metadata": {},
   "outputs": [],
   "source": [
    "import numpy as np\n",
    "import pandas as pd\n",
    "import matplotlib.pyplot as plt\n",
    "import seaborn as sns\n",
    "from sklearn.preprocessing import LabelEncoder\n",
    "import re\n",
    "\n",
    "train = pd.read_csv(r\"C:\\Users\\raven\\Downloads\\sf-crime\\train.csv\\train.csv\")\n",
    "test  = pd.read_csv(r\"C:\\Users\\raven\\Downloads\\sf-crime\\test.csv\\test.csv\")\n",
    "\n",
    "train1 = train.drop(['Descript', 'Resolution'], axis = 1)\n",
    "\n",
    "train1 = train1.query('Y != 90')"
   ]
  },
  {
   "cell_type": "code",
   "execution_count": null,
   "metadata": {},
   "outputs": [],
   "source": [
    "Dt = pd.to_datetime(train1['Dates'])\n",
    "train1['Date'] = Dt.dt.date\n",
    "train1['Year'] = Dt.dt.year\n",
    "train1['Month'] = Dt.dt.month\n",
    "train1['Day'] = Dt.dt.day\n",
    "train1['Hour'] = Dt.dt.hour\n",
    "train1.drop([\"Dates\"], axis = 1, inplace = True)\n",
    "\n",
    "le = LabelEncoder()\n",
    "train1['DayOfWeek'] = le.fit_transform(train1['DayOfWeek'])\n",
    "\n",
    "train1['PdDistrict'] = le.fit_transform(train1['PdDistrict'])\n",
    "\n",
    "Ad_dict = {'.* / .*':0, '.*':1}\n",
    "train1['Address'] = train1['Address'].replace(Ad_dict,regex = True)\n",
    "\n",
    "train1['Category'] = le.fit_transform(train1['Category'])\n",
    "train1.head()\n",
    "# DayOfWeek, PdDistrict...label"
   ]
  },
  {
   "cell_type": "code",
   "execution_count": null,
   "metadata": {},
   "outputs": [],
   "source": [
    "Dt = pd.to_datetime(test['Dates'])\n",
    "test['Date'] = Dt.dt.date\n",
    "test['Year'] = Dt.dt.year\n",
    "test['Month'] = Dt.dt.month\n",
    "test['Day'] = Dt.dt.day\n",
    "test['Hour'] = Dt.dt.hour\n",
    "test.drop([\"Dates\"], axis = 1, inplace = True)\n",
    "\n",
    "le = LabelEncoder()\n",
    "test['DayOfWeek'] = le.fit_transform(test['DayOfWeek'])\n",
    "\n",
    "test['PdDistrict'] = le.fit_transform(test['PdDistrict'])\n",
    "\n",
    "Ad_dict = {'.* / .*':0, '.*':1}\n",
    "test['Address'] = test['Address'].replace(Ad_dict,regex = True)\n",
    "test.head()"
   ]
  },
  {
   "cell_type": "code",
   "execution_count": null,
   "metadata": {},
   "outputs": [],
   "source": [
    "cols = ['DayOfWeek', 'PdDistrict', 'Address', 'X', 'Y', 'Year', 'Month', 'Day', 'Hour']\n",
    "\n",
    "X = train1[cols]\n",
    "Y = train1['Category']\n",
    "\n",
    "X_test = test[cols]\n",
    "\n",
    "from sklearn.model_selection import train_test_split\n",
    "X_train, X_val, y_train, y_val = train_test_split(X, Y, test_size = 0.3, random_state = 1219)"
   ]
  },
  {
   "cell_type": "code",
   "execution_count": null,
   "metadata": {},
   "outputs": [],
   "source": [
    "from catboost import CatBoostClassifier\n",
    "cb = CatBoostClassifier()\n",
    "\n",
    "cb.fit(X_train, y_train)\n",
    "y_pred = cb.predict(X_val)"
   ]
  },
  {
   "cell_type": "code",
   "execution_count": null,
   "metadata": {},
   "outputs": [],
   "source": [
    "from sklearn.metrics import accuracy_score\n",
    "accuracy_score(y_val, y_pred)"
   ]
  },
  {
   "cell_type": "code",
   "execution_count": null,
   "metadata": {},
   "outputs": [],
   "source": [
    "cb_submission = cb.predict(X_test)"
   ]
  },
  {
   "cell_type": "code",
   "execution_count": null,
   "metadata": {},
   "outputs": [],
   "source": [
    "import csv\n",
    "pred = cb.predict_proba(test[['DayOfWeek', 'PdDistrict', 'Address', 'X', 'Y', 'Year', 'Month', 'Day', 'Hour']])\n",
    "submission = pd.DataFrame(columns=['Id'], data=test)\n",
    "submission = pd.concat([submission, pd.DataFrame(pred, columns=[\"ARSON\", \"ASSAULT\", \"BAD CHECKS\", \"BRIBERY\", \"BURGLARY\", \"DISORDERLY CONDUCT\",\n",
    "\"DRIVING UNDER THE INFLUENCE\", \"DRUG/NARCOTIC\", \"DRUNKENNESS\", \"EMBEZZLEMENT\", \"EXTORTION\",\n",
    "\"FAMILY OFFENSES\", \"FORGERY/COUNTERFEITING\", \"FRAUD\", \"GAMBLING\", \"KIDNAPPING\", \"LARCENY/THEFT\",\n",
    "\"LIQUOR LAWS\", \"LOITERING\", \"MISSING PERSON\", \"NON-CRIMINAL\", \"OTHER OFFENSES\", \"PORNOGRAPHY/OBSCENE MAT\",\n",
    "\"PROSTITUTION\", \"RECOVERED VEHICLE\", \"ROBBERY\", \"RUNAWAY\", \"SECONDARY CODES\", \"SEX OFFENSES FORCIBLE\",\n",
    "\"SEX OFFENSES NON FORCIBLE\", \"STOLEN PROPERTY\", \"SUICIDE\", \"SUSPICIOUS OCC\", \"TREA\", \"TRESPASS\",\n",
    "\"VANDALISM\", \"VEHICLE THEFT\", \"WARRANTS\", \"WEAPON LAWS\"])], axis=1)"
   ]
  },
  {
   "cell_type": "code",
   "execution_count": null,
   "metadata": {},
   "outputs": [],
   "source": [
    "submission.to_csv(\"cat2.csv\", index=False)"
   ]
  }
 ],
 "metadata": {
  "kernelspec": {
   "display_name": "base",
   "language": "python",
   "name": "python3"
  },
  "language_info": {
   "name": "python",
   "version": "3.9.12"
  },
  "orig_nbformat": 4,
  "vscode": {
   "interpreter": {
    "hash": "48a0778e89fd8d63bb67c0ae3b13ae830d25e28e8f936c65fb5a282d332226e5"
   }
  }
 },
 "nbformat": 4,
 "nbformat_minor": 2
}
