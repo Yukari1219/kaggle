{
 "cells": [
  {
   "cell_type": "code",
   "execution_count": 41,
   "metadata": {},
   "outputs": [],
   "source": [
    "import numpy as np\n",
    "import pandas as pd\n",
    "import matplotlib.pyplot as plt\n",
    "import seaborn as sns\n",
    "from sklearn.preprocessing import LabelEncoder\n",
    "from sklearn.model_selection import cross_val_score\n",
    "from sklearn.metrics import accuracy_score\n",
    "import re"
   ]
  },
  {
   "cell_type": "code",
   "execution_count": 42,
   "metadata": {},
   "outputs": [],
   "source": [
    "train = pd.read_csv(r\"C:\\Users\\raven\\Downloads\\sf-crime\\train.csv\\train.csv\")\n",
    "test  = pd.read_csv(r\"C:\\Users\\raven\\Downloads\\sf-crime\\test.csv\\test.csv\")"
   ]
  },
  {
   "cell_type": "code",
   "execution_count": 43,
   "metadata": {},
   "outputs": [
    {
     "data": {
      "text/html": [
       "<div>\n",
       "<style scoped>\n",
       "    .dataframe tbody tr th:only-of-type {\n",
       "        vertical-align: middle;\n",
       "    }\n",
       "\n",
       "    .dataframe tbody tr th {\n",
       "        vertical-align: top;\n",
       "    }\n",
       "\n",
       "    .dataframe thead th {\n",
       "        text-align: right;\n",
       "    }\n",
       "</style>\n",
       "<table border=\"1\" class=\"dataframe\">\n",
       "  <thead>\n",
       "    <tr style=\"text-align: right;\">\n",
       "      <th></th>\n",
       "      <th>Dates</th>\n",
       "      <th>Category</th>\n",
       "      <th>DayOfWeek</th>\n",
       "      <th>PdDistrict</th>\n",
       "      <th>Address</th>\n",
       "      <th>X</th>\n",
       "      <th>Y</th>\n",
       "    </tr>\n",
       "  </thead>\n",
       "  <tbody>\n",
       "    <tr>\n",
       "      <th>0</th>\n",
       "      <td>2015-05-13 23:53:00</td>\n",
       "      <td>WARRANTS</td>\n",
       "      <td>Wednesday</td>\n",
       "      <td>NORTHERN</td>\n",
       "      <td>OAK ST / LAGUNA ST</td>\n",
       "      <td>-122.425892</td>\n",
       "      <td>37.774599</td>\n",
       "    </tr>\n",
       "    <tr>\n",
       "      <th>1</th>\n",
       "      <td>2015-05-13 23:53:00</td>\n",
       "      <td>OTHER OFFENSES</td>\n",
       "      <td>Wednesday</td>\n",
       "      <td>NORTHERN</td>\n",
       "      <td>OAK ST / LAGUNA ST</td>\n",
       "      <td>-122.425892</td>\n",
       "      <td>37.774599</td>\n",
       "    </tr>\n",
       "    <tr>\n",
       "      <th>2</th>\n",
       "      <td>2015-05-13 23:33:00</td>\n",
       "      <td>OTHER OFFENSES</td>\n",
       "      <td>Wednesday</td>\n",
       "      <td>NORTHERN</td>\n",
       "      <td>VANNESS AV / GREENWICH ST</td>\n",
       "      <td>-122.424363</td>\n",
       "      <td>37.800414</td>\n",
       "    </tr>\n",
       "    <tr>\n",
       "      <th>3</th>\n",
       "      <td>2015-05-13 23:30:00</td>\n",
       "      <td>LARCENY/THEFT</td>\n",
       "      <td>Wednesday</td>\n",
       "      <td>NORTHERN</td>\n",
       "      <td>1500 Block of LOMBARD ST</td>\n",
       "      <td>-122.426995</td>\n",
       "      <td>37.800873</td>\n",
       "    </tr>\n",
       "    <tr>\n",
       "      <th>4</th>\n",
       "      <td>2015-05-13 23:30:00</td>\n",
       "      <td>LARCENY/THEFT</td>\n",
       "      <td>Wednesday</td>\n",
       "      <td>PARK</td>\n",
       "      <td>100 Block of BRODERICK ST</td>\n",
       "      <td>-122.438738</td>\n",
       "      <td>37.771541</td>\n",
       "    </tr>\n",
       "  </tbody>\n",
       "</table>\n",
       "</div>"
      ],
      "text/plain": [
       "                 Dates        Category  DayOfWeek PdDistrict  \\\n",
       "0  2015-05-13 23:53:00        WARRANTS  Wednesday   NORTHERN   \n",
       "1  2015-05-13 23:53:00  OTHER OFFENSES  Wednesday   NORTHERN   \n",
       "2  2015-05-13 23:33:00  OTHER OFFENSES  Wednesday   NORTHERN   \n",
       "3  2015-05-13 23:30:00   LARCENY/THEFT  Wednesday   NORTHERN   \n",
       "4  2015-05-13 23:30:00   LARCENY/THEFT  Wednesday       PARK   \n",
       "\n",
       "                     Address           X          Y  \n",
       "0         OAK ST / LAGUNA ST -122.425892  37.774599  \n",
       "1         OAK ST / LAGUNA ST -122.425892  37.774599  \n",
       "2  VANNESS AV / GREENWICH ST -122.424363  37.800414  \n",
       "3   1500 Block of LOMBARD ST -122.426995  37.800873  \n",
       "4  100 Block of BRODERICK ST -122.438738  37.771541  "
      ]
     },
     "execution_count": 43,
     "metadata": {},
     "output_type": "execute_result"
    }
   ],
   "source": [
    "train1 = train.drop(['Descript', 'Resolution'], axis = 1)\n",
    "train1.head()"
   ]
  },
  {
   "cell_type": "code",
   "execution_count": 44,
   "metadata": {},
   "outputs": [],
   "source": [
    "train1 = train1.query('Y != 90')"
   ]
  },
  {
   "cell_type": "code",
   "execution_count": 45,
   "metadata": {},
   "outputs": [],
   "source": [
    "# Ad_dict = {'.*?ST':'ST', '.*?AV':'AV', '.*?DR':'DR', '.*?I-80':'I-80', '.*?CT':'CT', '.*?LN':'LN','.*?WY':'WY',\n",
    "#             '.*?HY':'HY', '.*?PL':'PL,','.*?BL':'BL','.*?TR':'TR','.*?AL':'AL','.*?CR':'CR','.*?PARK':'PARK',\n",
    "#             '.*?WAY':'WAY', '.*?PZ':'PZ', '.*?MAR':'MAR','.*?RD':'RD', '.*?WK':'WK'}\n",
    "# train1['Address'] = train1['Address'].replace(Ad_dict,regex = True)\n",
    "# train1['Address'].value_counts()"
   ]
  },
  {
   "cell_type": "code",
   "execution_count": 46,
   "metadata": {},
   "outputs": [
    {
     "data": {
      "text/html": [
       "<div>\n",
       "<style scoped>\n",
       "    .dataframe tbody tr th:only-of-type {\n",
       "        vertical-align: middle;\n",
       "    }\n",
       "\n",
       "    .dataframe tbody tr th {\n",
       "        vertical-align: top;\n",
       "    }\n",
       "\n",
       "    .dataframe thead th {\n",
       "        text-align: right;\n",
       "    }\n",
       "</style>\n",
       "<table border=\"1\" class=\"dataframe\">\n",
       "  <thead>\n",
       "    <tr style=\"text-align: right;\">\n",
       "      <th></th>\n",
       "      <th>Category</th>\n",
       "      <th>DayOfWeek</th>\n",
       "      <th>PdDistrict</th>\n",
       "      <th>Address</th>\n",
       "      <th>X</th>\n",
       "      <th>Y</th>\n",
       "      <th>Date</th>\n",
       "      <th>Year</th>\n",
       "      <th>Month</th>\n",
       "      <th>Day</th>\n",
       "      <th>Hour</th>\n",
       "    </tr>\n",
       "  </thead>\n",
       "  <tbody>\n",
       "    <tr>\n",
       "      <th>0</th>\n",
       "      <td>37</td>\n",
       "      <td>6</td>\n",
       "      <td>105284</td>\n",
       "      <td>0</td>\n",
       "      <td>-122.425892</td>\n",
       "      <td>37.774599</td>\n",
       "      <td>2015-05-13</td>\n",
       "      <td>2015</td>\n",
       "      <td>5</td>\n",
       "      <td>13</td>\n",
       "      <td>23</td>\n",
       "    </tr>\n",
       "    <tr>\n",
       "      <th>1</th>\n",
       "      <td>21</td>\n",
       "      <td>6</td>\n",
       "      <td>105284</td>\n",
       "      <td>0</td>\n",
       "      <td>-122.425892</td>\n",
       "      <td>37.774599</td>\n",
       "      <td>2015-05-13</td>\n",
       "      <td>2015</td>\n",
       "      <td>5</td>\n",
       "      <td>13</td>\n",
       "      <td>23</td>\n",
       "    </tr>\n",
       "    <tr>\n",
       "      <th>2</th>\n",
       "      <td>21</td>\n",
       "      <td>6</td>\n",
       "      <td>105284</td>\n",
       "      <td>0</td>\n",
       "      <td>-122.424363</td>\n",
       "      <td>37.800414</td>\n",
       "      <td>2015-05-13</td>\n",
       "      <td>2015</td>\n",
       "      <td>5</td>\n",
       "      <td>13</td>\n",
       "      <td>23</td>\n",
       "    </tr>\n",
       "    <tr>\n",
       "      <th>3</th>\n",
       "      <td>16</td>\n",
       "      <td>6</td>\n",
       "      <td>105284</td>\n",
       "      <td>1</td>\n",
       "      <td>-122.426995</td>\n",
       "      <td>37.800873</td>\n",
       "      <td>2015-05-13</td>\n",
       "      <td>2015</td>\n",
       "      <td>5</td>\n",
       "      <td>13</td>\n",
       "      <td>23</td>\n",
       "    </tr>\n",
       "    <tr>\n",
       "      <th>4</th>\n",
       "      <td>16</td>\n",
       "      <td>6</td>\n",
       "      <td>49311</td>\n",
       "      <td>1</td>\n",
       "      <td>-122.438738</td>\n",
       "      <td>37.771541</td>\n",
       "      <td>2015-05-13</td>\n",
       "      <td>2015</td>\n",
       "      <td>5</td>\n",
       "      <td>13</td>\n",
       "      <td>23</td>\n",
       "    </tr>\n",
       "  </tbody>\n",
       "</table>\n",
       "</div>"
      ],
      "text/plain": [
       "   Category  DayOfWeek  PdDistrict  Address           X          Y  \\\n",
       "0        37          6      105284        0 -122.425892  37.774599   \n",
       "1        21          6      105284        0 -122.425892  37.774599   \n",
       "2        21          6      105284        0 -122.424363  37.800414   \n",
       "3        16          6      105284        1 -122.426995  37.800873   \n",
       "4        16          6       49311        1 -122.438738  37.771541   \n",
       "\n",
       "         Date  Year  Month  Day  Hour  \n",
       "0  2015-05-13  2015      5   13    23  \n",
       "1  2015-05-13  2015      5   13    23  \n",
       "2  2015-05-13  2015      5   13    23  \n",
       "3  2015-05-13  2015      5   13    23  \n",
       "4  2015-05-13  2015      5   13    23  "
      ]
     },
     "execution_count": 46,
     "metadata": {},
     "output_type": "execute_result"
    }
   ],
   "source": [
    "Dt = pd.to_datetime(train1['Dates'])\n",
    "train1['Date'] = Dt.dt.date\n",
    "train1['Year'] = Dt.dt.year\n",
    "train1['Month'] = Dt.dt.month\n",
    "train1['Day'] = Dt.dt.day\n",
    "train1['Hour'] = Dt.dt.hour\n",
    "train1.drop([\"Dates\"], axis = 1, inplace = True)\n",
    "\n",
    "le = LabelEncoder()\n",
    "train1['DayOfWeek'] = le.fit_transform(train1['DayOfWeek'])\n",
    "\n",
    "count_encoding = train1['PdDistrict'].value_counts().to_dict()\n",
    "train1['PdDistrict'] = train1['PdDistrict'].map(count_encoding)\n",
    "\n",
    "# Ad_dict = {'.*?ST / .*?ST':0, '.*?AV / .*?AV':1, '.*?ST / .*?AV':2, '.*?AV / .*?ST':3, '.*?ST':4, '.*?AV':5}\n",
    "# train1['Address'] = train1['Address'].replace(Ad_dict,regex = True)\n",
    "# train1['Address'].unique()\n",
    "\n",
    "Ad_dict = {'.* / .*':0, '.*':1}\n",
    "train1['Address'] = train1['Address'].replace(Ad_dict,regex = True)\n",
    "\n",
    "# Ad_dict = {'.*?ST':'ST', '.*?AV':'AV', '.*?DR':'DR', '.*?I-80':'I-80', '.*?CT':'CT', '.*?LN':'LN','.*?WY':'WY',\n",
    "#             '.*?HY':'HY', '.*?PL':'PL,','.*?BL':'BL','.*?TR':'TR','.*?AL':'AL','.*?CR':'CR','.*?PARK':'PARK',\n",
    "#             '.*?WAY':'WAY', '.*?PZ':'PZ', '.*?MAR':'MAR','.*?RD':'RD', '.*?WK':'WK'}\n",
    "# train1['Address'] = train1['Address'].replace(Ad_dict,regex = True)\n",
    "# train1['Address'].value_counts()\n",
    "\n",
    "train1['Category'] = le.fit_transform(train1['Category'])\n",
    "\n",
    "train1.head()\n",
    "# # DayOfWeek...label, PdDistrict...count"
   ]
  },
  {
   "cell_type": "code",
   "execution_count": 47,
   "metadata": {},
   "outputs": [
    {
     "data": {
      "text/html": [
       "<div>\n",
       "<style scoped>\n",
       "    .dataframe tbody tr th:only-of-type {\n",
       "        vertical-align: middle;\n",
       "    }\n",
       "\n",
       "    .dataframe tbody tr th {\n",
       "        vertical-align: top;\n",
       "    }\n",
       "\n",
       "    .dataframe thead th {\n",
       "        text-align: right;\n",
       "    }\n",
       "</style>\n",
       "<table border=\"1\" class=\"dataframe\">\n",
       "  <thead>\n",
       "    <tr style=\"text-align: right;\">\n",
       "      <th></th>\n",
       "      <th>Id</th>\n",
       "      <th>Dates</th>\n",
       "      <th>DayOfWeek</th>\n",
       "      <th>PdDistrict</th>\n",
       "      <th>Address</th>\n",
       "      <th>X</th>\n",
       "      <th>Y</th>\n",
       "    </tr>\n",
       "  </thead>\n",
       "  <tbody>\n",
       "    <tr>\n",
       "      <th>0</th>\n",
       "      <td>0</td>\n",
       "      <td>2015-05-10 23:59:00</td>\n",
       "      <td>Sunday</td>\n",
       "      <td>BAYVIEW</td>\n",
       "      <td>2000 Block of THOMAS AV</td>\n",
       "      <td>-122.399588</td>\n",
       "      <td>37.735051</td>\n",
       "    </tr>\n",
       "    <tr>\n",
       "      <th>1</th>\n",
       "      <td>1</td>\n",
       "      <td>2015-05-10 23:51:00</td>\n",
       "      <td>Sunday</td>\n",
       "      <td>BAYVIEW</td>\n",
       "      <td>3RD ST / REVERE AV</td>\n",
       "      <td>-122.391523</td>\n",
       "      <td>37.732432</td>\n",
       "    </tr>\n",
       "    <tr>\n",
       "      <th>2</th>\n",
       "      <td>2</td>\n",
       "      <td>2015-05-10 23:50:00</td>\n",
       "      <td>Sunday</td>\n",
       "      <td>NORTHERN</td>\n",
       "      <td>2000 Block of GOUGH ST</td>\n",
       "      <td>-122.426002</td>\n",
       "      <td>37.792212</td>\n",
       "    </tr>\n",
       "    <tr>\n",
       "      <th>3</th>\n",
       "      <td>3</td>\n",
       "      <td>2015-05-10 23:45:00</td>\n",
       "      <td>Sunday</td>\n",
       "      <td>INGLESIDE</td>\n",
       "      <td>4700 Block of MISSION ST</td>\n",
       "      <td>-122.437394</td>\n",
       "      <td>37.721412</td>\n",
       "    </tr>\n",
       "    <tr>\n",
       "      <th>4</th>\n",
       "      <td>4</td>\n",
       "      <td>2015-05-10 23:45:00</td>\n",
       "      <td>Sunday</td>\n",
       "      <td>INGLESIDE</td>\n",
       "      <td>4700 Block of MISSION ST</td>\n",
       "      <td>-122.437394</td>\n",
       "      <td>37.721412</td>\n",
       "    </tr>\n",
       "  </tbody>\n",
       "</table>\n",
       "</div>"
      ],
      "text/plain": [
       "   Id                Dates DayOfWeek PdDistrict                   Address  \\\n",
       "0   0  2015-05-10 23:59:00    Sunday    BAYVIEW   2000 Block of THOMAS AV   \n",
       "1   1  2015-05-10 23:51:00    Sunday    BAYVIEW        3RD ST / REVERE AV   \n",
       "2   2  2015-05-10 23:50:00    Sunday   NORTHERN    2000 Block of GOUGH ST   \n",
       "3   3  2015-05-10 23:45:00    Sunday  INGLESIDE  4700 Block of MISSION ST   \n",
       "4   4  2015-05-10 23:45:00    Sunday  INGLESIDE  4700 Block of MISSION ST   \n",
       "\n",
       "            X          Y  \n",
       "0 -122.399588  37.735051  \n",
       "1 -122.391523  37.732432  \n",
       "2 -122.426002  37.792212  \n",
       "3 -122.437394  37.721412  \n",
       "4 -122.437394  37.721412  "
      ]
     },
     "execution_count": 47,
     "metadata": {},
     "output_type": "execute_result"
    }
   ],
   "source": [
    "test.head()"
   ]
  },
  {
   "cell_type": "code",
   "execution_count": 48,
   "metadata": {},
   "outputs": [
    {
     "data": {
      "text/html": [
       "<div>\n",
       "<style scoped>\n",
       "    .dataframe tbody tr th:only-of-type {\n",
       "        vertical-align: middle;\n",
       "    }\n",
       "\n",
       "    .dataframe tbody tr th {\n",
       "        vertical-align: top;\n",
       "    }\n",
       "\n",
       "    .dataframe thead th {\n",
       "        text-align: right;\n",
       "    }\n",
       "</style>\n",
       "<table border=\"1\" class=\"dataframe\">\n",
       "  <thead>\n",
       "    <tr style=\"text-align: right;\">\n",
       "      <th></th>\n",
       "      <th>Id</th>\n",
       "      <th>DayOfWeek</th>\n",
       "      <th>PdDistrict</th>\n",
       "      <th>Address</th>\n",
       "      <th>X</th>\n",
       "      <th>Y</th>\n",
       "      <th>Date</th>\n",
       "      <th>Year</th>\n",
       "      <th>Month</th>\n",
       "      <th>Day</th>\n",
       "      <th>Hour</th>\n",
       "    </tr>\n",
       "  </thead>\n",
       "  <tbody>\n",
       "    <tr>\n",
       "      <th>0</th>\n",
       "      <td>0</td>\n",
       "      <td>3</td>\n",
       "      <td>89591</td>\n",
       "      <td>1</td>\n",
       "      <td>-122.399588</td>\n",
       "      <td>37.735051</td>\n",
       "      <td>2015-05-10</td>\n",
       "      <td>2015</td>\n",
       "      <td>5</td>\n",
       "      <td>10</td>\n",
       "      <td>23</td>\n",
       "    </tr>\n",
       "    <tr>\n",
       "      <th>1</th>\n",
       "      <td>1</td>\n",
       "      <td>3</td>\n",
       "      <td>89591</td>\n",
       "      <td>0</td>\n",
       "      <td>-122.391523</td>\n",
       "      <td>37.732432</td>\n",
       "      <td>2015-05-10</td>\n",
       "      <td>2015</td>\n",
       "      <td>5</td>\n",
       "      <td>10</td>\n",
       "      <td>23</td>\n",
       "    </tr>\n",
       "    <tr>\n",
       "      <th>2</th>\n",
       "      <td>2</td>\n",
       "      <td>3</td>\n",
       "      <td>107017</td>\n",
       "      <td>1</td>\n",
       "      <td>-122.426002</td>\n",
       "      <td>37.792212</td>\n",
       "      <td>2015-05-10</td>\n",
       "      <td>2015</td>\n",
       "      <td>5</td>\n",
       "      <td>10</td>\n",
       "      <td>23</td>\n",
       "    </tr>\n",
       "    <tr>\n",
       "      <th>3</th>\n",
       "      <td>3</td>\n",
       "      <td>3</td>\n",
       "      <td>80084</td>\n",
       "      <td>1</td>\n",
       "      <td>-122.437394</td>\n",
       "      <td>37.721412</td>\n",
       "      <td>2015-05-10</td>\n",
       "      <td>2015</td>\n",
       "      <td>5</td>\n",
       "      <td>10</td>\n",
       "      <td>23</td>\n",
       "    </tr>\n",
       "    <tr>\n",
       "      <th>4</th>\n",
       "      <td>4</td>\n",
       "      <td>3</td>\n",
       "      <td>80084</td>\n",
       "      <td>1</td>\n",
       "      <td>-122.437394</td>\n",
       "      <td>37.721412</td>\n",
       "      <td>2015-05-10</td>\n",
       "      <td>2015</td>\n",
       "      <td>5</td>\n",
       "      <td>10</td>\n",
       "      <td>23</td>\n",
       "    </tr>\n",
       "  </tbody>\n",
       "</table>\n",
       "</div>"
      ],
      "text/plain": [
       "   Id  DayOfWeek  PdDistrict  Address           X          Y        Date  \\\n",
       "0   0          3       89591        1 -122.399588  37.735051  2015-05-10   \n",
       "1   1          3       89591        0 -122.391523  37.732432  2015-05-10   \n",
       "2   2          3      107017        1 -122.426002  37.792212  2015-05-10   \n",
       "3   3          3       80084        1 -122.437394  37.721412  2015-05-10   \n",
       "4   4          3       80084        1 -122.437394  37.721412  2015-05-10   \n",
       "\n",
       "   Year  Month  Day  Hour  \n",
       "0  2015      5   10    23  \n",
       "1  2015      5   10    23  \n",
       "2  2015      5   10    23  \n",
       "3  2015      5   10    23  \n",
       "4  2015      5   10    23  "
      ]
     },
     "execution_count": 48,
     "metadata": {},
     "output_type": "execute_result"
    }
   ],
   "source": [
    "Dt = pd.to_datetime(test['Dates'])\n",
    "test['Date'] = Dt.dt.date\n",
    "test['Year'] = Dt.dt.year\n",
    "test['Month'] = Dt.dt.month\n",
    "test['Day'] = Dt.dt.day\n",
    "test['Hour'] = Dt.dt.hour\n",
    "test.drop([\"Dates\"], axis = 1, inplace = True)\n",
    "\n",
    "le = LabelEncoder()\n",
    "test['DayOfWeek'] = le.fit_transform(test['DayOfWeek'])\n",
    "\n",
    "count_encoding = test['PdDistrict'].value_counts().to_dict()\n",
    "test['PdDistrict'] = test['PdDistrict'].map(count_encoding)\n",
    "\n",
    "Ad_dict = {'.* / .*':0, '.*':1}\n",
    "test['Address'] = test['Address'].replace(Ad_dict,regex = True)\n",
    "test.head()"
   ]
  },
  {
   "cell_type": "code",
   "execution_count": 49,
   "metadata": {},
   "outputs": [],
   "source": [
    "cols = ['DayOfWeek', 'PdDistrict', 'Address', 'X', 'Y', 'Year', 'Month', 'Day', 'Hour']\n",
    "\n",
    "X = train1[cols]\n",
    "Y = train1['Category']\n",
    "\n",
    "X_test = test[cols]"
   ]
  },
  {
   "cell_type": "code",
   "execution_count": 50,
   "metadata": {},
   "outputs": [],
   "source": [
    "from sklearn.model_selection import train_test_split\n",
    "X_train, X_val, y_train, y_val = train_test_split(X, Y, test_size = 0.3, random_state = 1219)"
   ]
  },
  {
   "cell_type": "code",
   "execution_count": 53,
   "metadata": {},
   "outputs": [],
   "source": [
    "from sklearn.ensemble import RandomForestClassifier as RFC\n",
    "\n",
    "def objective(trial):\n",
    "    criterion = \"gini\"\n",
    "    max_depth = trial.suggest_int('max_depth', 3, 7)\n",
    "    n_estimators = 100\n",
    "    max_features = \"log2\"\n",
    "\n",
    "    rf = RFC(max_depth = max_depth,\n",
    "        n_estimators = n_estimators,\n",
    "        max_features = max_features,\n",
    "        criterion = criterion)\n",
    "\n",
    "    score = cross_val_score(rf, X_train, y_train, cv=5, scoring=\"r2\")\n",
    "    r2_mean = score.mean()\n",
    "    print(r2_mean)\n",
    "\n",
    "    return r2_mean\n"
   ]
  },
  {
   "cell_type": "code",
   "execution_count": 54,
   "metadata": {},
   "outputs": [
    {
     "name": "stderr",
     "output_type": "stream",
     "text": [
      "\u001b[32m[I 2023-02-14 15:45:35,661]\u001b[0m A new study created in memory with name: no-name-14804b37-a391-45da-9e88-783be7f22a1b\u001b[0m\n",
      "\u001b[32m[I 2023-02-14 15:55:09,527]\u001b[0m Trial 0 finished with value: -0.3883711884984994 and parameters: {'max_depth': 9, 'max_features': 'log2'}. Best is trial 0 with value: -0.3883711884984994.\u001b[0m\n"
     ]
    },
    {
     "name": "stdout",
     "output_type": "stream",
     "text": [
      "-0.3883711884984994\n"
     ]
    },
    {
     "name": "stderr",
     "output_type": "stream",
     "text": [
      "\u001b[32m[I 2023-02-14 16:04:26,819]\u001b[0m Trial 1 finished with value: -0.37209540736049856 and parameters: {'max_depth': 8, 'max_features': 'auto'}. Best is trial 0 with value: -0.3883711884984994.\u001b[0m\n"
     ]
    },
    {
     "name": "stdout",
     "output_type": "stream",
     "text": [
      "-0.37209540736049856\n"
     ]
    },
    {
     "name": "stderr",
     "output_type": "stream",
     "text": [
      "\u001b[32m[I 2023-02-14 16:09:56,009]\u001b[0m Trial 2 finished with value: -0.07334169754724237 and parameters: {'max_depth': 4, 'max_features': 'log2'}. Best is trial 0 with value: -0.3883711884984994.\u001b[0m\n"
     ]
    },
    {
     "name": "stdout",
     "output_type": "stream",
     "text": [
      "-0.07334169754724237\n"
     ]
    },
    {
     "name": "stderr",
     "output_type": "stream",
     "text": [
      "\u001b[32m[I 2023-02-14 16:19:15,108]\u001b[0m Trial 3 finished with value: -0.3931055504545255 and parameters: {'max_depth': 10, 'max_features': 'sqrt'}. Best is trial 3 with value: -0.3931055504545255.\u001b[0m\n"
     ]
    },
    {
     "name": "stdout",
     "output_type": "stream",
     "text": [
      "-0.3931055504545255\n"
     ]
    },
    {
     "name": "stderr",
     "output_type": "stream",
     "text": [
      "\u001b[32m[I 2023-02-14 16:23:37,261]\u001b[0m Trial 4 finished with value: -0.12955828899782987 and parameters: {'max_depth': 5, 'max_features': 'sqrt'}. Best is trial 3 with value: -0.3931055504545255.\u001b[0m\n"
     ]
    },
    {
     "name": "stdout",
     "output_type": "stream",
     "text": [
      "-0.12955828899782987\n"
     ]
    },
    {
     "name": "stderr",
     "output_type": "stream",
     "text": [
      "\u001b[32m[I 2023-02-14 16:27:22,948]\u001b[0m Trial 5 finished with value: -0.07424216309179558 and parameters: {'max_depth': 4, 'max_features': 'auto'}. Best is trial 3 with value: -0.3931055504545255.\u001b[0m\n"
     ]
    },
    {
     "name": "stdout",
     "output_type": "stream",
     "text": [
      "-0.07424216309179558\n"
     ]
    },
    {
     "name": "stderr",
     "output_type": "stream",
     "text": [
      "\u001b[32m[I 2023-02-14 17:56:26,965]\u001b[0m Trial 6 finished with value: -0.38420089634658083 and parameters: {'max_depth': 9, 'max_features': 'sqrt'}. Best is trial 3 with value: -0.3931055504545255.\u001b[0m\n"
     ]
    },
    {
     "name": "stdout",
     "output_type": "stream",
     "text": [
      "-0.38420089634658083\n"
     ]
    },
    {
     "name": "stderr",
     "output_type": "stream",
     "text": [
      "\u001b[32m[I 2023-02-14 18:03:02,291]\u001b[0m Trial 7 finished with value: -0.39392945391461814 and parameters: {'max_depth': 10, 'max_features': 'auto'}. Best is trial 7 with value: -0.39392945391461814.\u001b[0m\n"
     ]
    },
    {
     "name": "stdout",
     "output_type": "stream",
     "text": [
      "-0.39392945391461814\n"
     ]
    },
    {
     "name": "stderr",
     "output_type": "stream",
     "text": [
      "\u001b[32m[I 2023-02-14 18:09:55,011]\u001b[0m Trial 8 finished with value: -0.3853861413590022 and parameters: {'max_depth': 9, 'max_features': 'log2'}. Best is trial 7 with value: -0.39392945391461814.\u001b[0m\n"
     ]
    },
    {
     "name": "stdout",
     "output_type": "stream",
     "text": [
      "-0.3853861413590022\n"
     ]
    },
    {
     "name": "stderr",
     "output_type": "stream",
     "text": [
      "\u001b[32m[I 2023-02-14 19:58:25,412]\u001b[0m Trial 9 finished with value: -0.3853485052767731 and parameters: {'max_depth': 9, 'max_features': 'sqrt'}. Best is trial 7 with value: -0.39392945391461814.\u001b[0m\n"
     ]
    },
    {
     "name": "stdout",
     "output_type": "stream",
     "text": [
      "-0.3853485052767731\n"
     ]
    },
    {
     "name": "stderr",
     "output_type": "stream",
     "text": [
      "\u001b[32m[I 2023-02-14 20:16:12,228]\u001b[0m Trial 10 finished with value: -0.2685272870977949 and parameters: {'max_depth': 6, 'max_features': 'auto'}. Best is trial 7 with value: -0.39392945391461814.\u001b[0m\n"
     ]
    },
    {
     "name": "stdout",
     "output_type": "stream",
     "text": [
      "-0.2685272870977949\n"
     ]
    },
    {
     "name": "stderr",
     "output_type": "stream",
     "text": [
      "\u001b[32m[I 2023-02-14 20:45:27,759]\u001b[0m Trial 11 finished with value: -0.38858627476651797 and parameters: {'max_depth': 10, 'max_features': 'sqrt'}. Best is trial 7 with value: -0.39392945391461814.\u001b[0m\n"
     ]
    },
    {
     "name": "stdout",
     "output_type": "stream",
     "text": [
      "-0.38858627476651797\n"
     ]
    },
    {
     "name": "stderr",
     "output_type": "stream",
     "text": [
      "\u001b[32m[I 2023-02-14 21:30:55,273]\u001b[0m Trial 12 finished with value: -0.3932910897647858 and parameters: {'max_depth': 10, 'max_features': 'auto'}. Best is trial 7 with value: -0.39392945391461814.\u001b[0m\n"
     ]
    },
    {
     "name": "stdout",
     "output_type": "stream",
     "text": [
      "-0.3932910897647858\n"
     ]
    },
    {
     "name": "stderr",
     "output_type": "stream",
     "text": [
      "\u001b[32m[I 2023-02-14 21:37:34,914]\u001b[0m Trial 13 finished with value: -0.3295043239902081 and parameters: {'max_depth': 7, 'max_features': 'auto'}. Best is trial 7 with value: -0.39392945391461814.\u001b[0m\n"
     ]
    },
    {
     "name": "stdout",
     "output_type": "stream",
     "text": [
      "-0.3295043239902081\n"
     ]
    },
    {
     "name": "stderr",
     "output_type": "stream",
     "text": [
      "\u001b[32m[I 2023-02-14 21:43:07,132]\u001b[0m Trial 14 finished with value: -0.33725630206274865 and parameters: {'max_depth': 7, 'max_features': 'auto'}. Best is trial 7 with value: -0.39392945391461814.\u001b[0m\n"
     ]
    },
    {
     "name": "stdout",
     "output_type": "stream",
     "text": [
      "-0.33725630206274865\n"
     ]
    },
    {
     "name": "stderr",
     "output_type": "stream",
     "text": [
      "\u001b[32m[I 2023-02-14 21:49:58,302]\u001b[0m Trial 15 finished with value: -0.3892147064057157 and parameters: {'max_depth': 10, 'max_features': 'auto'}. Best is trial 7 with value: -0.39392945391461814.\u001b[0m\n"
     ]
    },
    {
     "name": "stdout",
     "output_type": "stream",
     "text": [
      "-0.3892147064057157\n"
     ]
    },
    {
     "name": "stderr",
     "output_type": "stream",
     "text": [
      "\u001b[32m[I 2023-02-14 21:55:59,782]\u001b[0m Trial 16 finished with value: -0.3727307427930403 and parameters: {'max_depth': 8, 'max_features': 'auto'}. Best is trial 7 with value: -0.39392945391461814.\u001b[0m\n"
     ]
    },
    {
     "name": "stdout",
     "output_type": "stream",
     "text": [
      "-0.3727307427930403\n"
     ]
    },
    {
     "name": "stderr",
     "output_type": "stream",
     "text": [
      "\u001b[32m[I 2023-02-14 22:02:06,003]\u001b[0m Trial 17 finished with value: -0.3734964615063133 and parameters: {'max_depth': 8, 'max_features': 'auto'}. Best is trial 7 with value: -0.39392945391461814.\u001b[0m\n"
     ]
    },
    {
     "name": "stdout",
     "output_type": "stream",
     "text": [
      "-0.3734964615063133\n"
     ]
    },
    {
     "name": "stderr",
     "output_type": "stream",
     "text": [
      "\u001b[32m[I 2023-02-14 22:05:11,498]\u001b[0m Trial 18 finished with value: -0.07312133593409839 and parameters: {'max_depth': 3, 'max_features': 'auto'}. Best is trial 7 with value: -0.39392945391461814.\u001b[0m\n"
     ]
    },
    {
     "name": "stdout",
     "output_type": "stream",
     "text": [
      "-0.07312133593409839\n"
     ]
    },
    {
     "name": "stderr",
     "output_type": "stream",
     "text": [
      "\u001b[32m[I 2023-02-14 22:10:09,202]\u001b[0m Trial 19 finished with value: -0.2855326756908476 and parameters: {'max_depth': 6, 'max_features': 'auto'}. Best is trial 7 with value: -0.39392945391461814.\u001b[0m\n"
     ]
    },
    {
     "name": "stdout",
     "output_type": "stream",
     "text": [
      "-0.2855326756908476\n"
     ]
    },
    {
     "name": "stderr",
     "output_type": "stream",
     "text": [
      "\u001b[32m[I 2023-02-14 22:16:54,835]\u001b[0m Trial 20 finished with value: -0.3951604419606121 and parameters: {'max_depth': 10, 'max_features': 'log2'}. Best is trial 20 with value: -0.3951604419606121.\u001b[0m\n"
     ]
    },
    {
     "name": "stdout",
     "output_type": "stream",
     "text": [
      "-0.3951604419606121\n"
     ]
    },
    {
     "name": "stderr",
     "output_type": "stream",
     "text": [
      "\u001b[32m[I 2023-02-14 22:23:43,201]\u001b[0m Trial 21 finished with value: -0.39169017960613906 and parameters: {'max_depth': 10, 'max_features': 'log2'}. Best is trial 20 with value: -0.3951604419606121.\u001b[0m\n"
     ]
    },
    {
     "name": "stdout",
     "output_type": "stream",
     "text": [
      "-0.39169017960613906\n"
     ]
    },
    {
     "name": "stderr",
     "output_type": "stream",
     "text": [
      "\u001b[32m[I 2023-02-14 22:30:31,520]\u001b[0m Trial 22 finished with value: -0.39335727562320255 and parameters: {'max_depth': 10, 'max_features': 'log2'}. Best is trial 20 with value: -0.3951604419606121.\u001b[0m\n"
     ]
    },
    {
     "name": "stdout",
     "output_type": "stream",
     "text": [
      "-0.39335727562320255\n"
     ]
    },
    {
     "name": "stderr",
     "output_type": "stream",
     "text": [
      "\u001b[32m[I 2023-02-14 22:36:59,353]\u001b[0m Trial 23 finished with value: -0.3846796487283851 and parameters: {'max_depth': 9, 'max_features': 'log2'}. Best is trial 20 with value: -0.3951604419606121.\u001b[0m\n"
     ]
    },
    {
     "name": "stdout",
     "output_type": "stream",
     "text": [
      "-0.3846796487283851\n"
     ]
    },
    {
     "name": "stderr",
     "output_type": "stream",
     "text": [
      "\u001b[32m[I 2023-02-14 22:43:02,027]\u001b[0m Trial 24 finished with value: -0.37347836567187687 and parameters: {'max_depth': 8, 'max_features': 'log2'}. Best is trial 20 with value: -0.3951604419606121.\u001b[0m\n"
     ]
    },
    {
     "name": "stdout",
     "output_type": "stream",
     "text": [
      "-0.37347836567187687\n"
     ]
    },
    {
     "name": "stderr",
     "output_type": "stream",
     "text": [
      "\u001b[32m[I 2023-02-14 22:52:11,643]\u001b[0m Trial 25 finished with value: -0.3936337999355827 and parameters: {'max_depth': 10, 'max_features': 'log2'}. Best is trial 20 with value: -0.3951604419606121.\u001b[0m\n"
     ]
    },
    {
     "name": "stdout",
     "output_type": "stream",
     "text": [
      "-0.3936337999355827\n"
     ]
    },
    {
     "name": "stderr",
     "output_type": "stream",
     "text": [
      "\u001b[32m[I 2023-02-14 23:02:50,384]\u001b[0m Trial 26 finished with value: -0.391205660025498 and parameters: {'max_depth': 9, 'max_features': 'log2'}. Best is trial 20 with value: -0.3951604419606121.\u001b[0m\n"
     ]
    },
    {
     "name": "stdout",
     "output_type": "stream",
     "text": [
      "-0.391205660025498\n"
     ]
    },
    {
     "name": "stderr",
     "output_type": "stream",
     "text": [
      "\u001b[32m[I 2023-02-14 23:14:13,298]\u001b[0m Trial 27 finished with value: -0.39111623802458956 and parameters: {'max_depth': 10, 'max_features': 'log2'}. Best is trial 20 with value: -0.3951604419606121.\u001b[0m\n"
     ]
    },
    {
     "name": "stdout",
     "output_type": "stream",
     "text": [
      "-0.39111623802458956\n"
     ]
    },
    {
     "name": "stderr",
     "output_type": "stream",
     "text": [
      "\u001b[32m[I 2023-02-14 23:23:15,053]\u001b[0m Trial 28 finished with value: -0.3488377331827015 and parameters: {'max_depth': 7, 'max_features': 'log2'}. Best is trial 20 with value: -0.3951604419606121.\u001b[0m\n"
     ]
    },
    {
     "name": "stdout",
     "output_type": "stream",
     "text": [
      "-0.3488377331827015\n"
     ]
    },
    {
     "name": "stderr",
     "output_type": "stream",
     "text": [
      "\u001b[32m[I 2023-02-14 23:33:50,266]\u001b[0m Trial 29 finished with value: -0.3843836214174011 and parameters: {'max_depth': 9, 'max_features': 'log2'}. Best is trial 20 with value: -0.3951604419606121.\u001b[0m\n"
     ]
    },
    {
     "name": "stdout",
     "output_type": "stream",
     "text": [
      "-0.3843836214174011\n"
     ]
    },
    {
     "name": "stderr",
     "output_type": "stream",
     "text": [
      "\u001b[32m[I 2023-02-14 23:43:38,954]\u001b[0m Trial 30 finished with value: -0.37176791391066744 and parameters: {'max_depth': 8, 'max_features': 'log2'}. Best is trial 20 with value: -0.3951604419606121.\u001b[0m\n"
     ]
    },
    {
     "name": "stdout",
     "output_type": "stream",
     "text": [
      "-0.37176791391066744\n"
     ]
    },
    {
     "name": "stderr",
     "output_type": "stream",
     "text": [
      "\u001b[32m[I 2023-02-14 23:55:03,270]\u001b[0m Trial 31 finished with value: -0.3924708058149965 and parameters: {'max_depth': 10, 'max_features': 'log2'}. Best is trial 20 with value: -0.3951604419606121.\u001b[0m\n"
     ]
    },
    {
     "name": "stdout",
     "output_type": "stream",
     "text": [
      "-0.3924708058149965\n"
     ]
    },
    {
     "name": "stderr",
     "output_type": "stream",
     "text": [
      "\u001b[32m[I 2023-02-15 00:05:50,853]\u001b[0m Trial 32 finished with value: -0.3891224952927559 and parameters: {'max_depth': 10, 'max_features': 'log2'}. Best is trial 20 with value: -0.3951604419606121.\u001b[0m\n"
     ]
    },
    {
     "name": "stdout",
     "output_type": "stream",
     "text": [
      "-0.3891224952927559\n"
     ]
    },
    {
     "name": "stderr",
     "output_type": "stream",
     "text": [
      "\u001b[32m[I 2023-02-15 00:15:32,631]\u001b[0m Trial 33 finished with value: -0.3828775150437276 and parameters: {'max_depth': 9, 'max_features': 'log2'}. Best is trial 20 with value: -0.3951604419606121.\u001b[0m\n"
     ]
    },
    {
     "name": "stdout",
     "output_type": "stream",
     "text": [
      "-0.3828775150437276\n"
     ]
    },
    {
     "name": "stderr",
     "output_type": "stream",
     "text": [
      "\u001b[32m[I 2023-02-15 00:28:40,050]\u001b[0m Trial 34 finished with value: -0.3979148805040095 and parameters: {'max_depth': 10, 'max_features': 'log2'}. Best is trial 34 with value: -0.3979148805040095.\u001b[0m\n"
     ]
    },
    {
     "name": "stdout",
     "output_type": "stream",
     "text": [
      "-0.3979148805040095\n"
     ]
    },
    {
     "name": "stderr",
     "output_type": "stream",
     "text": [
      "\u001b[32m[I 2023-02-15 00:36:40,597]\u001b[0m Trial 35 finished with value: -0.3845003359275511 and parameters: {'max_depth': 9, 'max_features': 'log2'}. Best is trial 34 with value: -0.3979148805040095.\u001b[0m\n"
     ]
    },
    {
     "name": "stdout",
     "output_type": "stream",
     "text": [
      "-0.3845003359275511\n"
     ]
    },
    {
     "name": "stderr",
     "output_type": "stream",
     "text": [
      "\u001b[32m[I 2023-02-15 03:51:20,206]\u001b[0m Trial 36 finished with value: -0.3956075269567027 and parameters: {'max_depth': 10, 'max_features': 'log2'}. Best is trial 34 with value: -0.3979148805040095.\u001b[0m\n"
     ]
    },
    {
     "name": "stdout",
     "output_type": "stream",
     "text": [
      "-0.3956075269567027\n"
     ]
    },
    {
     "name": "stderr",
     "output_type": "stream",
     "text": [
      "\u001b[32m[I 2023-02-15 05:10:45,108]\u001b[0m Trial 37 finished with value: -0.39546512324909566 and parameters: {'max_depth': 10, 'max_features': 'log2'}. Best is trial 34 with value: -0.3979148805040095.\u001b[0m\n"
     ]
    },
    {
     "name": "stdout",
     "output_type": "stream",
     "text": [
      "-0.39546512324909566\n"
     ]
    },
    {
     "name": "stderr",
     "output_type": "stream",
     "text": [
      "\u001b[32m[I 2023-02-15 05:14:56,543]\u001b[0m Trial 38 finished with value: -0.12746854618068054 and parameters: {'max_depth': 5, 'max_features': 'log2'}. Best is trial 34 with value: -0.3979148805040095.\u001b[0m\n"
     ]
    },
    {
     "name": "stdout",
     "output_type": "stream",
     "text": [
      "-0.12746854618068054\n"
     ]
    },
    {
     "name": "stderr",
     "output_type": "stream",
     "text": [
      "\u001b[32m[I 2023-02-15 05:40:12,655]\u001b[0m Trial 39 finished with value: -0.38152685967915984 and parameters: {'max_depth': 9, 'max_features': 'log2'}. Best is trial 34 with value: -0.3979148805040095.\u001b[0m\n"
     ]
    },
    {
     "name": "stdout",
     "output_type": "stream",
     "text": [
      "-0.38152685967915984\n"
     ]
    },
    {
     "name": "stderr",
     "output_type": "stream",
     "text": [
      "\u001b[32m[I 2023-02-15 05:49:59,309]\u001b[0m Trial 40 finished with value: -0.3760258645969055 and parameters: {'max_depth': 8, 'max_features': 'sqrt'}. Best is trial 34 with value: -0.3979148805040095.\u001b[0m\n"
     ]
    },
    {
     "name": "stdout",
     "output_type": "stream",
     "text": [
      "-0.3760258645969055\n"
     ]
    },
    {
     "name": "stderr",
     "output_type": "stream",
     "text": [
      "\u001b[32m[I 2023-02-15 06:01:22,393]\u001b[0m Trial 41 finished with value: -0.39485592866345537 and parameters: {'max_depth': 10, 'max_features': 'log2'}. Best is trial 34 with value: -0.3979148805040095.\u001b[0m\n"
     ]
    },
    {
     "name": "stdout",
     "output_type": "stream",
     "text": [
      "-0.39485592866345537\n"
     ]
    },
    {
     "name": "stderr",
     "output_type": "stream",
     "text": [
      "\u001b[32m[I 2023-02-15 06:12:50,097]\u001b[0m Trial 42 finished with value: -0.3940817176157866 and parameters: {'max_depth': 10, 'max_features': 'log2'}. Best is trial 34 with value: -0.3979148805040095.\u001b[0m\n"
     ]
    },
    {
     "name": "stdout",
     "output_type": "stream",
     "text": [
      "-0.3940817176157866\n"
     ]
    },
    {
     "name": "stderr",
     "output_type": "stream",
     "text": [
      "\u001b[32m[I 2023-02-15 06:24:20,017]\u001b[0m Trial 43 finished with value: -0.3915295146000015 and parameters: {'max_depth': 10, 'max_features': 'log2'}. Best is trial 34 with value: -0.3979148805040095.\u001b[0m\n"
     ]
    },
    {
     "name": "stdout",
     "output_type": "stream",
     "text": [
      "-0.3915295146000015\n"
     ]
    },
    {
     "name": "stderr",
     "output_type": "stream",
     "text": [
      "\u001b[32m[I 2023-02-15 06:35:02,368]\u001b[0m Trial 44 finished with value: -0.383755053942739 and parameters: {'max_depth': 9, 'max_features': 'log2'}. Best is trial 34 with value: -0.3979148805040095.\u001b[0m\n"
     ]
    },
    {
     "name": "stdout",
     "output_type": "stream",
     "text": [
      "-0.383755053942739\n"
     ]
    },
    {
     "name": "stderr",
     "output_type": "stream",
     "text": [
      "\u001b[32m[I 2023-02-15 06:46:45,328]\u001b[0m Trial 45 finished with value: -0.396804326511049 and parameters: {'max_depth': 10, 'max_features': 'log2'}. Best is trial 34 with value: -0.3979148805040095.\u001b[0m\n"
     ]
    },
    {
     "name": "stdout",
     "output_type": "stream",
     "text": [
      "-0.396804326511049\n"
     ]
    },
    {
     "name": "stderr",
     "output_type": "stream",
     "text": [
      "\u001b[32m[I 2023-02-15 06:57:29,835]\u001b[0m Trial 46 finished with value: -0.3813061004525533 and parameters: {'max_depth': 9, 'max_features': 'sqrt'}. Best is trial 34 with value: -0.3979148805040095.\u001b[0m\n"
     ]
    },
    {
     "name": "stdout",
     "output_type": "stream",
     "text": [
      "-0.3813061004525533\n"
     ]
    },
    {
     "name": "stderr",
     "output_type": "stream",
     "text": [
      "\u001b[32m[I 2023-02-15 07:08:11,072]\u001b[0m Trial 47 finished with value: -0.3847020127682584 and parameters: {'max_depth': 9, 'max_features': 'log2'}. Best is trial 34 with value: -0.3979148805040095.\u001b[0m\n"
     ]
    },
    {
     "name": "stdout",
     "output_type": "stream",
     "text": [
      "-0.3847020127682584\n"
     ]
    },
    {
     "name": "stderr",
     "output_type": "stream",
     "text": [
      "\u001b[32m[I 2023-02-15 07:19:32,667]\u001b[0m Trial 48 finished with value: -0.3944859525736752 and parameters: {'max_depth': 10, 'max_features': 'log2'}. Best is trial 34 with value: -0.3979148805040095.\u001b[0m\n"
     ]
    },
    {
     "name": "stdout",
     "output_type": "stream",
     "text": [
      "-0.3944859525736752\n"
     ]
    },
    {
     "name": "stderr",
     "output_type": "stream",
     "text": [
      "\u001b[32m[I 2023-02-15 07:31:00,366]\u001b[0m Trial 49 finished with value: -0.38940938939614217 and parameters: {'max_depth': 10, 'max_features': 'log2'}. Best is trial 34 with value: -0.3979148805040095.\u001b[0m\n"
     ]
    },
    {
     "name": "stdout",
     "output_type": "stream",
     "text": [
      "-0.38940938939614217\n"
     ]
    },
    {
     "name": "stderr",
     "output_type": "stream",
     "text": [
      "\u001b[32m[I 2023-02-15 07:35:55,615]\u001b[0m Trial 50 finished with value: -0.07304668722942984 and parameters: {'max_depth': 3, 'max_features': 'sqrt'}. Best is trial 34 with value: -0.3979148805040095.\u001b[0m\n"
     ]
    },
    {
     "name": "stdout",
     "output_type": "stream",
     "text": [
      "-0.07304668722942984\n"
     ]
    },
    {
     "name": "stderr",
     "output_type": "stream",
     "text": [
      "\u001b[32m[I 2023-02-15 07:47:12,699]\u001b[0m Trial 51 finished with value: -0.3977054454216338 and parameters: {'max_depth': 10, 'max_features': 'log2'}. Best is trial 34 with value: -0.3979148805040095.\u001b[0m\n"
     ]
    },
    {
     "name": "stdout",
     "output_type": "stream",
     "text": [
      "-0.3977054454216338\n"
     ]
    },
    {
     "name": "stderr",
     "output_type": "stream",
     "text": [
      "\u001b[32m[I 2023-02-15 08:54:12,914]\u001b[0m Trial 52 finished with value: -0.3953679923604499 and parameters: {'max_depth': 10, 'max_features': 'log2'}. Best is trial 34 with value: -0.3979148805040095.\u001b[0m\n"
     ]
    },
    {
     "name": "stdout",
     "output_type": "stream",
     "text": [
      "-0.3953679923604499\n"
     ]
    },
    {
     "name": "stderr",
     "output_type": "stream",
     "text": [
      "\u001b[32m[I 2023-02-15 09:01:03,138]\u001b[0m Trial 53 finished with value: -0.3906978488235355 and parameters: {'max_depth': 10, 'max_features': 'log2'}. Best is trial 34 with value: -0.3979148805040095.\u001b[0m\n"
     ]
    },
    {
     "name": "stdout",
     "output_type": "stream",
     "text": [
      "-0.3906978488235355\n"
     ]
    },
    {
     "name": "stderr",
     "output_type": "stream",
     "text": [
      "\u001b[32m[I 2023-02-15 09:07:49,735]\u001b[0m Trial 54 finished with value: -0.38934983921550276 and parameters: {'max_depth': 10, 'max_features': 'log2'}. Best is trial 34 with value: -0.3979148805040095.\u001b[0m\n"
     ]
    },
    {
     "name": "stdout",
     "output_type": "stream",
     "text": [
      "-0.38934983921550276\n"
     ]
    },
    {
     "name": "stderr",
     "output_type": "stream",
     "text": [
      "\u001b[32m[I 2023-02-15 09:14:09,046]\u001b[0m Trial 55 finished with value: -0.38802666466832453 and parameters: {'max_depth': 9, 'max_features': 'log2'}. Best is trial 34 with value: -0.3979148805040095.\u001b[0m\n"
     ]
    },
    {
     "name": "stdout",
     "output_type": "stream",
     "text": [
      "-0.38802666466832453\n"
     ]
    },
    {
     "name": "stderr",
     "output_type": "stream",
     "text": [
      "\u001b[32m[I 2023-02-15 09:22:37,836]\u001b[0m Trial 56 finished with value: -0.3932735826597567 and parameters: {'max_depth': 10, 'max_features': 'log2'}. Best is trial 34 with value: -0.3979148805040095.\u001b[0m\n"
     ]
    },
    {
     "name": "stdout",
     "output_type": "stream",
     "text": [
      "-0.3932735826597567\n"
     ]
    },
    {
     "name": "stderr",
     "output_type": "stream",
     "text": [
      "\u001b[32m[I 2023-02-15 09:32:18,222]\u001b[0m Trial 57 finished with value: -0.38526696261668303 and parameters: {'max_depth': 9, 'max_features': 'log2'}. Best is trial 34 with value: -0.3979148805040095.\u001b[0m\n"
     ]
    },
    {
     "name": "stdout",
     "output_type": "stream",
     "text": [
      "-0.38526696261668303\n"
     ]
    },
    {
     "name": "stderr",
     "output_type": "stream",
     "text": [
      "\u001b[32m[I 2023-02-15 09:42:44,209]\u001b[0m Trial 58 finished with value: -0.39155350276735656 and parameters: {'max_depth': 10, 'max_features': 'log2'}. Best is trial 34 with value: -0.3979148805040095.\u001b[0m\n"
     ]
    },
    {
     "name": "stdout",
     "output_type": "stream",
     "text": [
      "-0.39155350276735656\n"
     ]
    },
    {
     "name": "stderr",
     "output_type": "stream",
     "text": [
      "\u001b[32m[I 2023-02-15 09:51:37,201]\u001b[0m Trial 59 finished with value: -0.3744395157150433 and parameters: {'max_depth': 8, 'max_features': 'sqrt'}. Best is trial 34 with value: -0.3979148805040095.\u001b[0m\n"
     ]
    },
    {
     "name": "stdout",
     "output_type": "stream",
     "text": [
      "-0.3744395157150433\n"
     ]
    },
    {
     "name": "stderr",
     "output_type": "stream",
     "text": [
      "\u001b[32m[I 2023-02-15 09:58:06,604]\u001b[0m Trial 60 finished with value: -0.12684196618612362 and parameters: {'max_depth': 5, 'max_features': 'log2'}. Best is trial 34 with value: -0.3979148805040095.\u001b[0m\n"
     ]
    },
    {
     "name": "stdout",
     "output_type": "stream",
     "text": [
      "-0.12684196618612362\n"
     ]
    },
    {
     "name": "stderr",
     "output_type": "stream",
     "text": [
      "\u001b[32m[I 2023-02-15 10:08:19,047]\u001b[0m Trial 61 finished with value: -0.38998095825452544 and parameters: {'max_depth': 10, 'max_features': 'log2'}. Best is trial 34 with value: -0.3979148805040095.\u001b[0m\n"
     ]
    },
    {
     "name": "stdout",
     "output_type": "stream",
     "text": [
      "-0.38998095825452544\n"
     ]
    },
    {
     "name": "stderr",
     "output_type": "stream",
     "text": [
      "\u001b[32m[I 2023-02-15 10:19:23,993]\u001b[0m Trial 62 finished with value: -0.3913090088287118 and parameters: {'max_depth': 10, 'max_features': 'log2'}. Best is trial 34 with value: -0.3979148805040095.\u001b[0m\n"
     ]
    },
    {
     "name": "stdout",
     "output_type": "stream",
     "text": [
      "-0.3913090088287118\n"
     ]
    },
    {
     "name": "stderr",
     "output_type": "stream",
     "text": [
      "\u001b[32m[I 2023-02-15 10:30:26,213]\u001b[0m Trial 63 finished with value: -0.39270100696913673 and parameters: {'max_depth': 10, 'max_features': 'log2'}. Best is trial 34 with value: -0.3979148805040095.\u001b[0m\n"
     ]
    },
    {
     "name": "stdout",
     "output_type": "stream",
     "text": [
      "-0.39270100696913673\n"
     ]
    },
    {
     "name": "stderr",
     "output_type": "stream",
     "text": [
      "\u001b[32m[I 2023-02-15 10:41:27,446]\u001b[0m Trial 64 finished with value: -0.3893750195591918 and parameters: {'max_depth': 10, 'max_features': 'log2'}. Best is trial 34 with value: -0.3979148805040095.\u001b[0m\n"
     ]
    },
    {
     "name": "stdout",
     "output_type": "stream",
     "text": [
      "-0.3893750195591918\n"
     ]
    },
    {
     "name": "stderr",
     "output_type": "stream",
     "text": [
      "\u001b[32m[I 2023-02-15 10:52:37,405]\u001b[0m Trial 65 finished with value: -0.3940753621046424 and parameters: {'max_depth': 10, 'max_features': 'log2'}. Best is trial 34 with value: -0.3979148805040095.\u001b[0m\n"
     ]
    },
    {
     "name": "stdout",
     "output_type": "stream",
     "text": [
      "-0.3940753621046424\n"
     ]
    },
    {
     "name": "stderr",
     "output_type": "stream",
     "text": [
      "\u001b[32m[I 2023-02-15 11:02:09,973]\u001b[0m Trial 66 finished with value: -0.38312740363171066 and parameters: {'max_depth': 9, 'max_features': 'log2'}. Best is trial 34 with value: -0.3979148805040095.\u001b[0m\n"
     ]
    },
    {
     "name": "stdout",
     "output_type": "stream",
     "text": [
      "-0.38312740363171066\n"
     ]
    },
    {
     "name": "stderr",
     "output_type": "stream",
     "text": [
      "\u001b[32m[I 2023-02-15 11:06:40,793]\u001b[0m Trial 67 finished with value: -0.2628744360654933 and parameters: {'max_depth': 6, 'max_features': 'log2'}. Best is trial 34 with value: -0.3979148805040095.\u001b[0m\n"
     ]
    },
    {
     "name": "stdout",
     "output_type": "stream",
     "text": [
      "-0.2628744360654933\n"
     ]
    },
    {
     "name": "stderr",
     "output_type": "stream",
     "text": [
      "\u001b[32m[I 2023-02-15 13:05:55,717]\u001b[0m Trial 68 finished with value: -0.3817339462167798 and parameters: {'max_depth': 9, 'max_features': 'auto'}. Best is trial 34 with value: -0.3979148805040095.\u001b[0m\n"
     ]
    },
    {
     "name": "stdout",
     "output_type": "stream",
     "text": [
      "-0.3817339462167798\n"
     ]
    },
    {
     "name": "stderr",
     "output_type": "stream",
     "text": [
      "\u001b[32m[I 2023-02-15 13:12:16,373]\u001b[0m Trial 69 finished with value: -0.3927537922449541 and parameters: {'max_depth': 10, 'max_features': 'log2'}. Best is trial 34 with value: -0.3979148805040095.\u001b[0m\n"
     ]
    },
    {
     "name": "stdout",
     "output_type": "stream",
     "text": [
      "-0.3927537922449541\n"
     ]
    },
    {
     "name": "stderr",
     "output_type": "stream",
     "text": [
      "\u001b[32m[I 2023-02-15 13:15:48,743]\u001b[0m Trial 70 finished with value: -0.07434368054759215 and parameters: {'max_depth': 4, 'max_features': 'log2'}. Best is trial 34 with value: -0.3979148805040095.\u001b[0m\n"
     ]
    },
    {
     "name": "stdout",
     "output_type": "stream",
     "text": [
      "-0.07434368054759215\n"
     ]
    },
    {
     "name": "stderr",
     "output_type": "stream",
     "text": [
      "\u001b[32m[I 2023-02-15 13:22:10,811]\u001b[0m Trial 71 finished with value: -0.3883237887342316 and parameters: {'max_depth': 10, 'max_features': 'log2'}. Best is trial 34 with value: -0.3979148805040095.\u001b[0m\n"
     ]
    },
    {
     "name": "stdout",
     "output_type": "stream",
     "text": [
      "-0.3883237887342316\n"
     ]
    },
    {
     "name": "stderr",
     "output_type": "stream",
     "text": [
      "\u001b[32m[I 2023-02-15 13:28:13,729]\u001b[0m Trial 72 finished with value: -0.39525533965353443 and parameters: {'max_depth': 10, 'max_features': 'log2'}. Best is trial 34 with value: -0.3979148805040095.\u001b[0m\n"
     ]
    },
    {
     "name": "stdout",
     "output_type": "stream",
     "text": [
      "-0.39525533965353443\n"
     ]
    },
    {
     "name": "stderr",
     "output_type": "stream",
     "text": [
      "\u001b[32m[I 2023-02-15 13:39:30,840]\u001b[0m Trial 73 finished with value: -0.39127533699540373 and parameters: {'max_depth': 10, 'max_features': 'log2'}. Best is trial 34 with value: -0.3979148805040095.\u001b[0m\n"
     ]
    },
    {
     "name": "stdout",
     "output_type": "stream",
     "text": [
      "-0.39127533699540373\n"
     ]
    },
    {
     "name": "stderr",
     "output_type": "stream",
     "text": [
      "\u001b[32m[I 2023-02-15 13:45:38,268]\u001b[0m Trial 74 finished with value: -0.39608660982038335 and parameters: {'max_depth': 10, 'max_features': 'log2'}. Best is trial 34 with value: -0.3979148805040095.\u001b[0m\n"
     ]
    },
    {
     "name": "stdout",
     "output_type": "stream",
     "text": [
      "-0.39608660982038335\n"
     ]
    },
    {
     "name": "stderr",
     "output_type": "stream",
     "text": [
      "\u001b[32m[I 2023-02-15 13:51:19,812]\u001b[0m Trial 75 finished with value: -0.38406151202363037 and parameters: {'max_depth': 9, 'max_features': 'log2'}. Best is trial 34 with value: -0.3979148805040095.\u001b[0m\n"
     ]
    },
    {
     "name": "stdout",
     "output_type": "stream",
     "text": [
      "-0.38406151202363037\n"
     ]
    },
    {
     "name": "stderr",
     "output_type": "stream",
     "text": [
      "\u001b[32m[I 2023-02-15 13:57:17,749]\u001b[0m Trial 76 finished with value: -0.3910387814016768 and parameters: {'max_depth': 10, 'max_features': 'log2'}. Best is trial 34 with value: -0.3979148805040095.\u001b[0m\n"
     ]
    },
    {
     "name": "stdout",
     "output_type": "stream",
     "text": [
      "-0.3910387814016768\n"
     ]
    },
    {
     "name": "stderr",
     "output_type": "stream",
     "text": [
      "\u001b[32m[I 2023-02-15 14:05:05,603]\u001b[0m Trial 77 finished with value: -0.39433028489996097 and parameters: {'max_depth': 10, 'max_features': 'log2'}. Best is trial 34 with value: -0.3979148805040095.\u001b[0m\n"
     ]
    },
    {
     "name": "stdout",
     "output_type": "stream",
     "text": [
      "-0.39433028489996097\n"
     ]
    },
    {
     "name": "stderr",
     "output_type": "stream",
     "text": [
      "\u001b[32m[I 2023-02-15 14:10:53,066]\u001b[0m Trial 78 finished with value: -0.38375928308907387 and parameters: {'max_depth': 9, 'max_features': 'auto'}. Best is trial 34 with value: -0.3979148805040095.\u001b[0m\n"
     ]
    },
    {
     "name": "stdout",
     "output_type": "stream",
     "text": [
      "-0.38375928308907387\n"
     ]
    },
    {
     "name": "stderr",
     "output_type": "stream",
     "text": [
      "\u001b[32m[I 2023-02-15 14:22:26,720]\u001b[0m Trial 79 finished with value: -0.3933435784312576 and parameters: {'max_depth': 10, 'max_features': 'sqrt'}. Best is trial 34 with value: -0.3979148805040095.\u001b[0m\n"
     ]
    },
    {
     "name": "stdout",
     "output_type": "stream",
     "text": [
      "-0.3933435784312576\n"
     ]
    },
    {
     "name": "stderr",
     "output_type": "stream",
     "text": [
      "\u001b[32m[I 2023-02-15 14:32:08,864]\u001b[0m Trial 80 finished with value: -0.38419895260839715 and parameters: {'max_depth': 9, 'max_features': 'log2'}. Best is trial 34 with value: -0.3979148805040095.\u001b[0m\n"
     ]
    },
    {
     "name": "stdout",
     "output_type": "stream",
     "text": [
      "-0.38419895260839715\n"
     ]
    },
    {
     "name": "stderr",
     "output_type": "stream",
     "text": [
      "\u001b[32m[I 2023-02-15 14:42:18,752]\u001b[0m Trial 81 finished with value: -0.3941830492224955 and parameters: {'max_depth': 10, 'max_features': 'log2'}. Best is trial 34 with value: -0.3979148805040095.\u001b[0m\n"
     ]
    },
    {
     "name": "stdout",
     "output_type": "stream",
     "text": [
      "-0.3941830492224955\n"
     ]
    },
    {
     "name": "stderr",
     "output_type": "stream",
     "text": [
      "\u001b[32m[I 2023-02-15 14:52:42,548]\u001b[0m Trial 82 finished with value: -0.3951675526547216 and parameters: {'max_depth': 10, 'max_features': 'log2'}. Best is trial 34 with value: -0.3979148805040095.\u001b[0m\n"
     ]
    },
    {
     "name": "stdout",
     "output_type": "stream",
     "text": [
      "-0.3951675526547216\n"
     ]
    },
    {
     "name": "stderr",
     "output_type": "stream",
     "text": [
      "\u001b[32m[I 2023-02-15 15:03:15,396]\u001b[0m Trial 83 finished with value: -0.3932150747673413 and parameters: {'max_depth': 10, 'max_features': 'log2'}. Best is trial 34 with value: -0.3979148805040095.\u001b[0m\n"
     ]
    },
    {
     "name": "stdout",
     "output_type": "stream",
     "text": [
      "-0.3932150747673413\n"
     ]
    },
    {
     "name": "stderr",
     "output_type": "stream",
     "text": [
      "\u001b[32m[I 2023-02-15 15:13:35,708]\u001b[0m Trial 84 finished with value: -0.3928649785210703 and parameters: {'max_depth': 10, 'max_features': 'log2'}. Best is trial 34 with value: -0.3979148805040095.\u001b[0m\n"
     ]
    },
    {
     "name": "stdout",
     "output_type": "stream",
     "text": [
      "-0.3928649785210703\n"
     ]
    },
    {
     "name": "stderr",
     "output_type": "stream",
     "text": [
      "\u001b[32m[I 2023-02-15 15:23:59,215]\u001b[0m Trial 85 finished with value: -0.3956590883946109 and parameters: {'max_depth': 10, 'max_features': 'log2'}. Best is trial 34 with value: -0.3979148805040095.\u001b[0m\n"
     ]
    },
    {
     "name": "stdout",
     "output_type": "stream",
     "text": [
      "-0.3956590883946109\n"
     ]
    },
    {
     "name": "stderr",
     "output_type": "stream",
     "text": [
      "\u001b[32m[I 2023-02-15 15:34:24,025]\u001b[0m Trial 86 finished with value: -0.3928600937846877 and parameters: {'max_depth': 10, 'max_features': 'log2'}. Best is trial 34 with value: -0.3979148805040095.\u001b[0m\n"
     ]
    },
    {
     "name": "stdout",
     "output_type": "stream",
     "text": [
      "-0.3928600937846877\n"
     ]
    },
    {
     "name": "stderr",
     "output_type": "stream",
     "text": [
      "\u001b[32m[I 2023-02-15 15:40:15,165]\u001b[0m Trial 87 finished with value: -0.38582351164073136 and parameters: {'max_depth': 9, 'max_features': 'log2'}. Best is trial 34 with value: -0.3979148805040095.\u001b[0m\n"
     ]
    },
    {
     "name": "stdout",
     "output_type": "stream",
     "text": [
      "-0.38582351164073136\n"
     ]
    },
    {
     "name": "stderr",
     "output_type": "stream",
     "text": [
      "\u001b[32m[I 2023-02-15 15:45:10,038]\u001b[0m Trial 88 finished with value: -0.3550755467333114 and parameters: {'max_depth': 7, 'max_features': 'log2'}. Best is trial 34 with value: -0.3979148805040095.\u001b[0m\n"
     ]
    },
    {
     "name": "stdout",
     "output_type": "stream",
     "text": [
      "-0.3550755467333114\n"
     ]
    },
    {
     "name": "stderr",
     "output_type": "stream",
     "text": [
      "\u001b[32m[I 2023-02-15 15:51:07,201]\u001b[0m Trial 89 finished with value: -0.3884922457669595 and parameters: {'max_depth': 10, 'max_features': 'log2'}. Best is trial 34 with value: -0.3979148805040095.\u001b[0m\n"
     ]
    },
    {
     "name": "stdout",
     "output_type": "stream",
     "text": [
      "-0.3884922457669595\n"
     ]
    },
    {
     "name": "stderr",
     "output_type": "stream",
     "text": [
      "\u001b[32m[I 2023-02-15 16:45:07,077]\u001b[0m Trial 90 finished with value: -0.3852416729875366 and parameters: {'max_depth': 9, 'max_features': 'log2'}. Best is trial 34 with value: -0.3979148805040095.\u001b[0m\n"
     ]
    },
    {
     "name": "stdout",
     "output_type": "stream",
     "text": [
      "-0.3852416729875366\n"
     ]
    },
    {
     "name": "stderr",
     "output_type": "stream",
     "text": [
      "\u001b[32m[I 2023-02-15 16:51:05,798]\u001b[0m Trial 91 finished with value: -0.39135696464930836 and parameters: {'max_depth': 10, 'max_features': 'log2'}. Best is trial 34 with value: -0.3979148805040095.\u001b[0m\n"
     ]
    },
    {
     "name": "stdout",
     "output_type": "stream",
     "text": [
      "-0.39135696464930836\n"
     ]
    },
    {
     "name": "stderr",
     "output_type": "stream",
     "text": [
      "\u001b[32m[I 2023-02-15 16:57:51,234]\u001b[0m Trial 92 finished with value: -0.3916073231514925 and parameters: {'max_depth': 10, 'max_features': 'log2'}. Best is trial 34 with value: -0.3979148805040095.\u001b[0m\n"
     ]
    },
    {
     "name": "stdout",
     "output_type": "stream",
     "text": [
      "-0.3916073231514925\n"
     ]
    },
    {
     "name": "stderr",
     "output_type": "stream",
     "text": [
      "\u001b[32m[I 2023-02-15 17:04:08,174]\u001b[0m Trial 93 finished with value: -0.3955554302507547 and parameters: {'max_depth': 10, 'max_features': 'log2'}. Best is trial 34 with value: -0.3979148805040095.\u001b[0m\n"
     ]
    },
    {
     "name": "stdout",
     "output_type": "stream",
     "text": [
      "-0.3955554302507547\n"
     ]
    },
    {
     "name": "stderr",
     "output_type": "stream",
     "text": [
      "\u001b[32m[I 2023-02-15 17:10:56,077]\u001b[0m Trial 94 finished with value: -0.3899784872366837 and parameters: {'max_depth': 10, 'max_features': 'log2'}. Best is trial 34 with value: -0.3979148805040095.\u001b[0m\n"
     ]
    },
    {
     "name": "stdout",
     "output_type": "stream",
     "text": [
      "-0.3899784872366837\n"
     ]
    },
    {
     "name": "stderr",
     "output_type": "stream",
     "text": [
      "\u001b[32m[I 2023-02-15 17:17:00,392]\u001b[0m Trial 95 finished with value: -0.3948163504902304 and parameters: {'max_depth': 10, 'max_features': 'log2'}. Best is trial 34 with value: -0.3979148805040095.\u001b[0m\n"
     ]
    },
    {
     "name": "stdout",
     "output_type": "stream",
     "text": [
      "-0.3948163504902304\n"
     ]
    },
    {
     "name": "stderr",
     "output_type": "stream",
     "text": [
      "\u001b[32m[I 2023-02-15 17:23:06,743]\u001b[0m Trial 96 finished with value: -0.39587902683525 and parameters: {'max_depth': 10, 'max_features': 'auto'}. Best is trial 34 with value: -0.3979148805040095.\u001b[0m\n"
     ]
    },
    {
     "name": "stdout",
     "output_type": "stream",
     "text": [
      "-0.39587902683525\n"
     ]
    },
    {
     "name": "stderr",
     "output_type": "stream",
     "text": [
      "\u001b[32m[I 2023-02-15 17:29:12,789]\u001b[0m Trial 97 finished with value: -0.3936454507118149 and parameters: {'max_depth': 10, 'max_features': 'auto'}. Best is trial 34 with value: -0.3979148805040095.\u001b[0m\n"
     ]
    },
    {
     "name": "stdout",
     "output_type": "stream",
     "text": [
      "-0.3936454507118149\n"
     ]
    },
    {
     "name": "stderr",
     "output_type": "stream",
     "text": [
      "\u001b[32m[I 2023-02-15 17:34:52,012]\u001b[0m Trial 98 finished with value: -0.38395799803221103 and parameters: {'max_depth': 9, 'max_features': 'auto'}. Best is trial 34 with value: -0.3979148805040095.\u001b[0m\n"
     ]
    },
    {
     "name": "stdout",
     "output_type": "stream",
     "text": [
      "-0.38395799803221103\n"
     ]
    },
    {
     "name": "stderr",
     "output_type": "stream",
     "text": [
      "\u001b[32m[I 2023-02-15 17:40:53,665]\u001b[0m Trial 99 finished with value: -0.39054326971501563 and parameters: {'max_depth': 10, 'max_features': 'auto'}. Best is trial 34 with value: -0.3979148805040095.\u001b[0m\n"
     ]
    },
    {
     "name": "stdout",
     "output_type": "stream",
     "text": [
      "-0.39054326971501563\n"
     ]
    }
   ],
   "source": [
    "import optuna\n",
    "study = optuna.create_study()\n",
    "study.optimize(objective, n_trials=100)\n"
   ]
  },
  {
   "cell_type": "code",
   "execution_count": 56,
   "metadata": {},
   "outputs": [
    {
     "data": {
      "text/plain": [
       "RandomForestClassifier(max_depth=10, max_features='log2')"
      ]
     },
     "execution_count": 56,
     "metadata": {},
     "output_type": "execute_result"
    }
   ],
   "source": [
    "optimised_rf = RFC(criterion=\"gini\", max_depth=study.best_params['max_depth'], n_estimators=100, max_features=study.best_params['max_features'])\n",
    "optimised_rf.fit(X_train ,y_train)"
   ]
  },
  {
   "cell_type": "code",
   "execution_count": 57,
   "metadata": {},
   "outputs": [],
   "source": [
    "\n",
    "# rf = RFC(n_jobs=-1,          # 複数のCPUコアを使って並列に学習します。-1は最大値。\n",
    "#           random_state=2525)  # 乱数のシードです。\n",
    "# rf = RFC(max_depth = 'max_depth',\n",
    "#         n_estimators = 'n_estimators',\n",
    "#         max_features = 'max_features',\n",
    "#         criterion = 'gini')\n",
    "\n",
    "# rf.fit(X_train, y_train)"
   ]
  },
  {
   "cell_type": "code",
   "execution_count": 59,
   "metadata": {},
   "outputs": [],
   "source": [
    "y_pred = optimised_rf.predict(X_val)"
   ]
  },
  {
   "cell_type": "code",
   "execution_count": 22,
   "metadata": {},
   "outputs": [],
   "source": [
    "# y_val.reshape(-1,1)"
   ]
  },
  {
   "cell_type": "code",
   "execution_count": 23,
   "metadata": {},
   "outputs": [],
   "source": [
    "# print(f\"acc: {rf.score(y_val, y_pred)}\")"
   ]
  },
  {
   "cell_type": "code",
   "execution_count": 61,
   "metadata": {},
   "outputs": [
    {
     "data": {
      "text/plain": [
       "0.26987224510715846"
      ]
     },
     "execution_count": 61,
     "metadata": {},
     "output_type": "execute_result"
    }
   ],
   "source": [
    "accuracy_score(y_val, y_pred)"
   ]
  },
  {
   "cell_type": "code",
   "execution_count": 62,
   "metadata": {},
   "outputs": [],
   "source": [
    "rf_submission = optimised_rf.predict(X_test)"
   ]
  },
  {
   "cell_type": "code",
   "execution_count": 64,
   "metadata": {},
   "outputs": [],
   "source": [
    "import csv\n",
    "pred = optimised_rf.predict_proba(test[['DayOfWeek', 'PdDistrict', 'Address', 'X', 'Y', 'Year', 'Month', 'Day', 'Hour']])\n",
    "submission = pd.DataFrame(columns=['Id'], data=test)\n",
    "submission = pd.concat([submission, pd.DataFrame(pred, columns=[\"ARSON\", \"ASSAULT\", \"BAD CHECKS\", \"BRIBERY\", \"BURGLARY\", \"DISORDERLY CONDUCT\",\n",
    "\"DRIVING UNDER THE INFLUENCE\", \"DRUG/NARCOTIC\", \"DRUNKENNESS\", \"EMBEZZLEMENT\", \"EXTORTION\",\n",
    "\"FAMILY OFFENSES\", \"FORGERY/COUNTERFEITING\", \"FRAUD\", \"GAMBLING\", \"KIDNAPPING\", \"LARCENY/THEFT\",\n",
    "\"LIQUOR LAWS\", \"LOITERING\", \"MISSING PERSON\", \"NON-CRIMINAL\", \"OTHER OFFENSES\", \"PORNOGRAPHY/OBSCENE MAT\",\n",
    "\"PROSTITUTION\", \"RECOVERED VEHICLE\", \"ROBBERY\", \"RUNAWAY\", \"SECONDARY CODES\", \"SEX OFFENSES FORCIBLE\",\n",
    "\"SEX OFFENSES NON FORCIBLE\", \"STOLEN PROPERTY\", \"SUICIDE\", \"SUSPICIOUS OCC\", \"TREA\", \"TRESPASS\",\n",
    "\"VANDALISM\", \"VEHICLE THEFT\", \"WARRANTS\", \"WEAPON LAWS\"])], axis=1)"
   ]
  },
  {
   "cell_type": "code",
   "execution_count": 65,
   "metadata": {},
   "outputs": [],
   "source": [
    "submission.to_csv(\"rf1-3.csv\", index=False)"
   ]
  },
  {
   "cell_type": "code",
   "execution_count": null,
   "metadata": {},
   "outputs": [],
   "source": []
  }
 ],
 "metadata": {
  "kernelspec": {
   "display_name": "base",
   "language": "python",
   "name": "python3"
  },
  "language_info": {
   "codemirror_mode": {
    "name": "ipython",
    "version": 3
   },
   "file_extension": ".py",
   "mimetype": "text/x-python",
   "name": "python",
   "nbconvert_exporter": "python",
   "pygments_lexer": "ipython3",
   "version": "3.9.12"
  },
  "orig_nbformat": 4,
  "vscode": {
   "interpreter": {
    "hash": "48a0778e89fd8d63bb67c0ae3b13ae830d25e28e8f936c65fb5a282d332226e5"
   }
  }
 },
 "nbformat": 4,
 "nbformat_minor": 2
}
